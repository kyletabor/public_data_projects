{
 "cells": [
  {
   "cell_type": "markdown",
   "metadata": {
    "nbpresent": {
     "id": "c9c36b31-aeb6-409c-b09d-2055db044573"
    }
   },
   "source": [
    "# Titanic Survival Data Review\n",
    "This is a competition from Kaggle with the goal of predicting survival on the titanic. Training of your machine learning algorithm is to be performed on the `train.csv` test set, and then predictions are to be submitted based on the `test.csv` test set.\n",
    "\n",
    "This notebook focuses only on examining the data. For predictions, please see `titanic_predictions.ipynb`."
   ]
  },
  {
   "cell_type": "code",
   "execution_count": 50,
   "metadata": {
    "collapsed": false,
    "nbpresent": {
     "id": "948b8b52-ef08-427a-af00-92a8a0973602"
    }
   },
   "outputs": [],
   "source": [
    "import numpy as np\n",
    "import pandas as pd\n",
    "import matplotlib.pyplot as plt\n",
    "import seaborn as sns\n",
    "import re\n",
    "%matplotlib inline\n",
    "\n",
    "plt.style.use('fivethirtyeight')\n",
    "\n",
    "# five_thirty_eight = [\n",
    "#     \"#30a2da\",\n",
    "#     \"#fc4f30\",\n",
    "#     \"#e5ae38\",\n",
    "#     \"#6d904f\",\n",
    "#     \"#8b8b8b\",\n",
    "# ]\n",
    "#sns.set_style('five_thirty_eight')"
   ]
  },
  {
   "cell_type": "code",
   "execution_count": 51,
   "metadata": {
    "collapsed": true,
    "nbpresent": {
     "id": "42957f30-f9d5-4d53-914e-3011ded15388"
    }
   },
   "outputs": [],
   "source": [
    "data = pd.read_csv('./data/train.csv')"
   ]
  },
  {
   "cell_type": "markdown",
   "metadata": {
    "nbpresent": {
     "id": "7d5d4b19-cd8f-4fec-9619-a66647f6270b"
    }
   },
   "source": [
    "## Data Review"
   ]
  },
  {
   "cell_type": "code",
   "execution_count": 52,
   "metadata": {
    "collapsed": false,
    "nbpresent": {
     "id": "6ecf295a-ef07-40e1-8c31-915c0ff5d675"
    }
   },
   "outputs": [
    {
     "data": {
      "text/plain": [
       "(891, 12)"
      ]
     },
     "execution_count": 52,
     "metadata": {},
     "output_type": "execute_result"
    }
   ],
   "source": [
    "data.shape"
   ]
  },
  {
   "cell_type": "markdown",
   "metadata": {
    "nbpresent": {
     "id": "62ec5dd7-953a-440c-8eb2-e250804f2e2f"
    }
   },
   "source": [
    "VARIABLE DESCRIPTIONS:\n",
    "\n",
    "```survival        Survival\n",
    "                (0 = No; 1 = Yes)\n",
    "pclass          Passenger Class\n",
    "                (1 = 1st; 2 = 2nd; 3 = 3rd)\n",
    "name            Name\n",
    "sex             Sex\n",
    "age             Age\n",
    "sibsp           Number of Siblings/Spouses Aboard\n",
    "parch           Number of Parents/Children Aboard\n",
    "ticket          Ticket Number\n",
    "fare            Passenger Fare\n",
    "cabin           Cabin\n",
    "embarked        Port of Embarkation\n",
    "                (C = Cherbourg; Q = Queenstown; S = Southampton)\n",
    "```\n",
    "\n",
    "\n",
    "SPECIAL NOTES:\n",
    "Pclass is a proxy for socio-economic status (SES)\n",
    " 1st ~ Upper; 2nd ~ Middle; 3rd ~ Lower\n",
    "\n",
    "Age is in Years; Fractional if Age less than One (1)\n",
    " If the Age is Estimated, it is in the form xx.5\n",
    "\n",
    "With respect to the family relation variables (i.e. sibsp and parch)\n",
    "some relations were ignored.  The following are the definitions used\n",
    "for sibsp and parch.\n",
    "\n",
    "- Sibling:  Brother, Sister, Stepbrother, or Stepsister of Passenger Aboard Titanic\n",
    "- Spouse:   Husband or Wife of Passenger Aboard Titanic (Mistresses and Fiances Ignored)\n",
    "- Parent:   Mother or Father of Passenger Aboard Titanic\n",
    "- Child:    Son, Daughter, Stepson, or Stepdaughter of Passenger Aboard Titanic\n",
    "\n",
    "Other family relatives excluded from this study include cousins, nephews/nieces, aunts/uncles, and in-laws.  Some children travelled only with a nanny, therefore parch=0 for them.  As well, some travelled with very close friends or neighbors in a village, however, the definitions do not support such relations."
   ]
  },
  {
   "cell_type": "code",
   "execution_count": 53,
   "metadata": {
    "collapsed": false,
    "nbpresent": {
     "id": "2bcd1b19-e896-4f69-bbed-b6acebee9272"
    }
   },
   "outputs": [
    {
     "data": {
      "text/html": [
       "<div>\n",
       "<table border=\"1\" class=\"dataframe\">\n",
       "  <thead>\n",
       "    <tr style=\"text-align: right;\">\n",
       "      <th></th>\n",
       "      <th>PassengerId</th>\n",
       "      <th>Survived</th>\n",
       "      <th>Pclass</th>\n",
       "      <th>Name</th>\n",
       "      <th>Sex</th>\n",
       "      <th>Age</th>\n",
       "      <th>SibSp</th>\n",
       "      <th>Parch</th>\n",
       "      <th>Ticket</th>\n",
       "      <th>Fare</th>\n",
       "      <th>Cabin</th>\n",
       "      <th>Embarked</th>\n",
       "    </tr>\n",
       "  </thead>\n",
       "  <tbody>\n",
       "    <tr>\n",
       "      <th>0</th>\n",
       "      <td>1</td>\n",
       "      <td>0</td>\n",
       "      <td>3</td>\n",
       "      <td>Braund, Mr. Owen Harris</td>\n",
       "      <td>male</td>\n",
       "      <td>22.0</td>\n",
       "      <td>1</td>\n",
       "      <td>0</td>\n",
       "      <td>A/5 21171</td>\n",
       "      <td>7.2500</td>\n",
       "      <td>NaN</td>\n",
       "      <td>S</td>\n",
       "    </tr>\n",
       "    <tr>\n",
       "      <th>1</th>\n",
       "      <td>2</td>\n",
       "      <td>1</td>\n",
       "      <td>1</td>\n",
       "      <td>Cumings, Mrs. John Bradley (Florence Briggs Th...</td>\n",
       "      <td>female</td>\n",
       "      <td>38.0</td>\n",
       "      <td>1</td>\n",
       "      <td>0</td>\n",
       "      <td>PC 17599</td>\n",
       "      <td>71.2833</td>\n",
       "      <td>C85</td>\n",
       "      <td>C</td>\n",
       "    </tr>\n",
       "    <tr>\n",
       "      <th>2</th>\n",
       "      <td>3</td>\n",
       "      <td>1</td>\n",
       "      <td>3</td>\n",
       "      <td>Heikkinen, Miss. Laina</td>\n",
       "      <td>female</td>\n",
       "      <td>26.0</td>\n",
       "      <td>0</td>\n",
       "      <td>0</td>\n",
       "      <td>STON/O2. 3101282</td>\n",
       "      <td>7.9250</td>\n",
       "      <td>NaN</td>\n",
       "      <td>S</td>\n",
       "    </tr>\n",
       "    <tr>\n",
       "      <th>3</th>\n",
       "      <td>4</td>\n",
       "      <td>1</td>\n",
       "      <td>1</td>\n",
       "      <td>Futrelle, Mrs. Jacques Heath (Lily May Peel)</td>\n",
       "      <td>female</td>\n",
       "      <td>35.0</td>\n",
       "      <td>1</td>\n",
       "      <td>0</td>\n",
       "      <td>113803</td>\n",
       "      <td>53.1000</td>\n",
       "      <td>C123</td>\n",
       "      <td>S</td>\n",
       "    </tr>\n",
       "    <tr>\n",
       "      <th>4</th>\n",
       "      <td>5</td>\n",
       "      <td>0</td>\n",
       "      <td>3</td>\n",
       "      <td>Allen, Mr. William Henry</td>\n",
       "      <td>male</td>\n",
       "      <td>35.0</td>\n",
       "      <td>0</td>\n",
       "      <td>0</td>\n",
       "      <td>373450</td>\n",
       "      <td>8.0500</td>\n",
       "      <td>NaN</td>\n",
       "      <td>S</td>\n",
       "    </tr>\n",
       "  </tbody>\n",
       "</table>\n",
       "</div>"
      ],
      "text/plain": [
       "   PassengerId  Survived  Pclass  \\\n",
       "0            1         0       3   \n",
       "1            2         1       1   \n",
       "2            3         1       3   \n",
       "3            4         1       1   \n",
       "4            5         0       3   \n",
       "\n",
       "                                                Name     Sex   Age  SibSp  \\\n",
       "0                            Braund, Mr. Owen Harris    male  22.0      1   \n",
       "1  Cumings, Mrs. John Bradley (Florence Briggs Th...  female  38.0      1   \n",
       "2                             Heikkinen, Miss. Laina  female  26.0      0   \n",
       "3       Futrelle, Mrs. Jacques Heath (Lily May Peel)  female  35.0      1   \n",
       "4                           Allen, Mr. William Henry    male  35.0      0   \n",
       "\n",
       "   Parch            Ticket     Fare Cabin Embarked  \n",
       "0      0         A/5 21171   7.2500   NaN        S  \n",
       "1      0          PC 17599  71.2833   C85        C  \n",
       "2      0  STON/O2. 3101282   7.9250   NaN        S  \n",
       "3      0            113803  53.1000  C123        S  \n",
       "4      0            373450   8.0500   NaN        S  "
      ]
     },
     "execution_count": 53,
     "metadata": {},
     "output_type": "execute_result"
    }
   ],
   "source": [
    "data.head(5)"
   ]
  },
  {
   "cell_type": "code",
   "execution_count": 54,
   "metadata": {
    "collapsed": true,
    "nbpresent": {
     "id": "2b3c35b0-69d9-45ce-ba69-736b3728db22"
    }
   },
   "outputs": [],
   "source": [
    "#convert names to lowercase just to make it easier to type.\n",
    "data.columns = map(str.lower, data.columns)"
   ]
  },
  {
   "cell_type": "code",
   "execution_count": 55,
   "metadata": {
    "collapsed": false,
    "nbpresent": {
     "id": "0577a110-8e5b-47f1-8a5c-217ceb48a8ce"
    }
   },
   "outputs": [
    {
     "data": {
      "text/plain": [
       "passengerid      int64\n",
       "survived         int64\n",
       "pclass           int64\n",
       "name            object\n",
       "sex             object\n",
       "age            float64\n",
       "sibsp            int64\n",
       "parch            int64\n",
       "ticket          object\n",
       "fare           float64\n",
       "cabin           object\n",
       "embarked        object\n",
       "dtype: object"
      ]
     },
     "execution_count": 55,
     "metadata": {},
     "output_type": "execute_result"
    }
   ],
   "source": [
    "data.dtypes"
   ]
  },
  {
   "cell_type": "markdown",
   "metadata": {
    "nbpresent": {
     "id": "3a39e207-cc97-44fc-83fd-0ad19c61a54d"
    }
   },
   "source": [
    "Let's split up the dataset into survived and died:"
   ]
  },
  {
   "cell_type": "code",
   "execution_count": 56,
   "metadata": {
    "collapsed": true,
    "nbpresent": {
     "id": "b77289e1-4d82-4db9-bc65-437e63e6348a"
    }
   },
   "outputs": [],
   "source": [
    "survived = data[data.survived==1]\n",
    "died = data[~data.index.isin(survived.index)]"
   ]
  },
  {
   "cell_type": "code",
   "execution_count": null,
   "metadata": {
    "collapsed": true,
    "nbpresent": {
     "id": "81cd9f13-3dea-4a04-9c2d-0e03683612b9"
    }
   },
   "outputs": [],
   "source": []
  },
  {
   "cell_type": "markdown",
   "metadata": {
    "nbpresent": {
     "id": "07f17575-aff3-46c7-b9d8-0ffb079cb894"
    }
   },
   "source": [
    "Let's look to see which columns have mising values. We will need to decide if we drop cases with missing values or if we fill them in with median values."
   ]
  },
  {
   "cell_type": "code",
   "execution_count": 57,
   "metadata": {
    "collapsed": false,
    "nbpresent": {
     "id": "62178622-b8c5-4c6c-979b-9f8f6674093a"
    }
   },
   "outputs": [
    {
     "data": {
      "text/plain": [
       "passengerid      0\n",
       "survived         0\n",
       "pclass           0\n",
       "name             0\n",
       "sex              0\n",
       "age            177\n",
       "sibsp            0\n",
       "parch            0\n",
       "ticket           0\n",
       "fare             0\n",
       "cabin          687\n",
       "embarked         2\n",
       "dtype: int64"
      ]
     },
     "execution_count": 57,
     "metadata": {},
     "output_type": "execute_result"
    }
   ],
   "source": [
    "data.isnull().sum()"
   ]
  },
  {
   "cell_type": "markdown",
   "metadata": {
    "nbpresent": {
     "id": "771f1836-041d-4216-a141-77d27283dbc9"
    }
   },
   "source": [
    "It looks like we will need to fill in missing values for age. It looks like a majority of passengers don't have cabins. Maybe we will classify based on if they had a cabin or not."
   ]
  },
  {
   "cell_type": "markdown",
   "metadata": {
    "nbpresent": {
     "id": "62770d41-8297-490b-bdf7-3bfdddfbab16"
    }
   },
   "source": [
    "### Gender"
   ]
  },
  {
   "cell_type": "markdown",
   "metadata": {
    "nbpresent": {
     "id": "724c0e1a-44e1-455e-bb5d-2d9413547c42"
    }
   },
   "source": [
    "Let's create a category based on sex and age, ie: Man, Woman, Child."
   ]
  },
  {
   "cell_type": "code",
   "execution_count": 58,
   "metadata": {
    "collapsed": true,
    "nbpresent": {
     "id": "2e5a61e4-114a-456a-abdb-af7e6716292b"
    }
   },
   "outputs": [],
   "source": [
    "def find_man_woman_child(row):\n",
    "    if row.age < 16:\n",
    "        return \"child\"\n",
    "    else:\n",
    "        return row.sex\n",
    "\n",
    "data['who'] = data.apply(find_man_woman_child,axis=1)"
   ]
  },
  {
   "cell_type": "code",
   "execution_count": 59,
   "metadata": {
    "collapsed": false,
    "nbpresent": {
     "id": "f63706d5-69a4-424a-a21d-7731ef008133"
    }
   },
   "outputs": [
    {
     "data": {
      "image/png": "[encoded data removed]",
      "text/plain": [
       "<matplotlib.figure.Figure at 0x11b3e7e48>"
      ]
     },
     "metadata": {},
     "output_type": "display_data"
    }
   ],
   "source": [
    "fig, (ax1, ax2) = plt.subplots(1,2,figsize=(15,5))\n",
    "g = sns.countplot(x='who',data=data,ax=ax1)\n",
    "g.set_xticklabels([\"Men\",\"Women\",\"Children\"])\n",
    "g = sns.barplot(x='who',y='survived',data=data,ax=ax2,ci=None)\n",
    "g.set_xticklabels([\"Men\",\"Women\",\"Children\"])\n",
    "plt.show()"
   ]
  },
  {
   "cell_type": "markdown",
   "metadata": {
    "nbpresent": {
     "id": "2562ece1-d9ee-4da5-9c73-adce45363718"
    }
   },
   "source": [
    "### Age\n",
    "Let's look at age how age affects survival:"
   ]
  },
  {
   "cell_type": "code",
   "execution_count": 60,
   "metadata": {
    "collapsed": false,
    "nbpresent": {
     "id": "f299d2cb-9972-4f97-b0b0-1f4f5839358e"
    }
   },
   "outputs": [
    {
     "name": "stderr",
     "output_type": "stream",
     "text": [
      "/Users/kyletabor/anaconda3/lib/python3.5/site-packages/statsmodels/nonparametric/kdetools.py:20: VisibleDeprecationWarning: using a non-integer number instead of an integer will result in an error in the future\n",
      "  y = X[:m/2+1] + np.r_[0,X[m/2+1:],0]*1j\n"
     ]
    },
    {
     "data": {
      "text/plain": [
       "<matplotlib.axes._subplots.AxesSubplot at 0x11b3e7a20>"
      ]
     },
     "execution_count": 60,
     "metadata": {},
     "output_type": "execute_result"
    },
    {
     "data": {
      "image/png": "[encoded data removed]",
      "text/plain": [
       "<matplotlib.figure.Figure at 0x11b3e7550>"
      ]
     },
     "metadata": {},
     "output_type": "display_data"
    }
   ],
   "source": [
    "sns.distplot(data.age.dropna())"
   ]
  },
  {
   "cell_type": "markdown",
   "metadata": {
    "nbpresent": {
     "id": "035ed193-a009-42c4-8b5c-6d16d877cc95"
    }
   },
   "source": [
    "How many age values are null?"
   ]
  },
  {
   "cell_type": "code",
   "execution_count": 61,
   "metadata": {
    "collapsed": false,
    "nbpresent": {
     "id": "92465c59-10ec-442b-94d3-5f00a98b151b"
    }
   },
   "outputs": [
    {
     "data": {
      "text/plain": [
       "177"
      ]
     },
     "execution_count": 61,
     "metadata": {},
     "output_type": "execute_result"
    }
   ],
   "source": [
    "#check for missing values\n",
    "data.age.isnull().sum()"
   ]
  },
  {
   "cell_type": "markdown",
   "metadata": {
    "nbpresent": {
     "id": "2b71ed9f-ea7e-4039-aa14-4c1031c7c353"
    }
   },
   "source": [
    "Let's fill in the null values with the median age values:"
   ]
  },
  {
   "cell_type": "code",
   "execution_count": 62,
   "metadata": {
    "collapsed": false,
    "nbpresent": {
     "id": "aa275f1c-ced5-4500-9aa7-8c8028b69fed"
    }
   },
   "outputs": [
    {
     "data": {
      "text/plain": [
       "0"
      ]
     },
     "execution_count": 62,
     "metadata": {},
     "output_type": "execute_result"
    }
   ],
   "source": [
    "data.age.fillna(data.age.median(),inplace=True)\n",
    "data.age.isnull().sum()"
   ]
  },
  {
   "cell_type": "code",
   "execution_count": 63,
   "metadata": {
    "collapsed": false,
    "nbpresent": {
     "id": "7526fb19-0652-4638-a83c-c289f129e165"
    }
   },
   "outputs": [
    {
     "name": "stderr",
     "output_type": "stream",
     "text": [
      "/Users/kyletabor/anaconda3/lib/python3.5/site-packages/statsmodels/nonparametric/kdetools.py:20: VisibleDeprecationWarning: using a non-integer number instead of an integer will result in an error in the future\n",
      "  y = X[:m/2+1] + np.r_[0,X[m/2+1:],0]*1j\n"
     ]
    },
    {
     "data": {
      "text/plain": [
       "<matplotlib.legend.Legend at 0x11bd9e2e8>"
      ]
     },
     "execution_count": 63,
     "metadata": {},
     "output_type": "execute_result"
    },
    {
     "data": {
      "image/png": "[encoded data removed]",
      "text/plain": [
       "<matplotlib.figure.Figure at 0x11a466e10>"
      ]
     },
     "metadata": {},
     "output_type": "display_data"
    }
   ],
   "source": [
    "fig, ax = plt.subplots()\n",
    "sns.distplot(survived.age.dropna(), ax=ax, kde=True, label='survived')\n",
    "sns.distplot(died.age.dropna(), ax=ax, kde=True, label='died')\n",
    "ax.set_xlim([0, 100])\n",
    "plt.legend()"
   ]
  },
  {
   "cell_type": "code",
   "execution_count": 64,
   "metadata": {
    "collapsed": false,
    "nbpresent": {
     "id": "8a664202-3058-4e56-9f6d-47366be08d85"
    }
   },
   "outputs": [
    {
     "data": {
      "image/png": "[encoded data removed]",
      "text/plain": [
       "<matplotlib.figure.Figure at 0x11c999588>"
      ]
     },
     "metadata": {},
     "output_type": "display_data"
    }
   ],
   "source": [
    "fig, ax1 = plt.subplots(1,1,figsize=(18,4))\n",
    "data['age_cat'] = data.age.astype(int)\n",
    "average_age = data.groupby(['age_cat'],as_index=False).mean()\n",
    "g = sns.barplot(x='age_cat', y='survived', data=average_age,ax = ax1)\n",
    "plt.show()"
   ]
  },
  {
   "cell_type": "markdown",
   "metadata": {
    "nbpresent": {
     "id": "a5fa70d4-f7e5-404f-be70-51557acb836e"
    }
   },
   "source": [
    "### Passenger Class\n",
    "Let's look at how survival varies by class."
   ]
  },
  {
   "cell_type": "code",
   "execution_count": 65,
   "metadata": {
    "collapsed": false,
    "nbpresent": {
     "id": "dd7ebbf8-97ac-4132-9e8c-373aca868083"
    }
   },
   "outputs": [
    {
     "data": {
      "text/plain": [
       "3    491\n",
       "1    216\n",
       "2    184\n",
       "Name: pclass, dtype: int64"
      ]
     },
     "execution_count": 65,
     "metadata": {},
     "output_type": "execute_result"
    }
   ],
   "source": [
    "# first check for missing values\n",
    "data.pclass.value_counts(dropna=False)"
   ]
  },
  {
   "cell_type": "code",
   "execution_count": 66,
   "metadata": {
    "collapsed": false,
    "nbpresent": {
     "id": "f6005cf3-f6cc-4fa8-b6c7-241131c196c2"
    }
   },
   "outputs": [
    {
     "data": {
      "image/png": "[encoded data removed]",
      "text/plain": [
       "<matplotlib.figure.Figure at 0x11cd67080>"
      ]
     },
     "metadata": {},
     "output_type": "display_data"
    }
   ],
   "source": [
    "g = sns.factorplot(x='who',y='survived',col = 'pclass',data=data,size=4,aspect=1,kind='bar',ci=None)\n",
    "g.set_xticklabels(['Men','Women','Children'])\n",
    "g.set_axis_labels(\"\",'Survival Rate')\n",
    "titles = [\"First Class\", \"Second Class\", \"Third Class\"]\n",
    "for ax, title in zip(g.axes.flat, titles):\n",
    "    ax.set_title(title)"
   ]
  },
  {
   "cell_type": "markdown",
   "metadata": {
    "nbpresent": {
     "id": "4052eb5f-d994-414d-960f-f6f5c81da868"
    }
   },
   "source": [
    "### Embarkation Location\n",
    "Survival by where they embarked"
   ]
  },
  {
   "cell_type": "code",
   "execution_count": 119,
   "metadata": {
    "collapsed": false,
    "nbpresent": {
     "id": "8fcc4457-f9e6-4cb5-9d6b-e11af5ce08dd"
    }
   },
   "outputs": [
    {
     "data": {
      "text/plain": [
       "<matplotlib.axes._subplots.AxesSubplot at 0x120238cf8>"
      ]
     },
     "execution_count": 119,
     "metadata": {},
     "output_type": "execute_result"
    },
    {
     "data": {
      "image/png": "[encoded data removed]",
      "text/plain": [
       "<matplotlib.figure.Figure at 0x11f809470>"
      ]
     },
     "metadata": {},
     "output_type": "display_data"
    }
   ],
   "source": [
    "fig, (ax1, ax2, ax3) = plt.subplots(1,3,figsize=(15,5))\n",
    "sns.countplot(x='embarked', data=data, ax=ax1, order=['S','C','Q'])\n",
    "\n",
    "sns.countplot(x='survived', hue='embarked',data=data,ax=ax2)\n",
    "\n",
    "embark_perc = data[[\"embarked\", \"survived\"]].groupby('embarked',as_index=False).agg('mean')\n",
    "sns.barplot(x='embarked', y='survived', data=embark_perc,order=['S','C','Q'],ax=ax3)"
   ]
  },
  {
   "cell_type": "code",
   "execution_count": null,
   "metadata": {
    "collapsed": false,
    "nbpresent": {
     "id": "85eda05f-c863-4817-8c96-9329833d08c1"
    }
   },
   "outputs": [],
   "source": []
  },
  {
   "cell_type": "markdown",
   "metadata": {
    "nbpresent": {
     "id": "19fee786-e512-44b7-be25-6a88db2677b1"
    }
   },
   "source": [
    "Since we have some mising values for embarked, let's fill in null values with the most common value"
   ]
  },
  {
   "cell_type": "code",
   "execution_count": 68,
   "metadata": {
    "collapsed": false,
    "nbpresent": {
     "id": "3d2a75bf-1a34-4699-9c8a-a1e43bc65c10"
    }
   },
   "outputs": [
    {
     "data": {
      "text/plain": [
       "0"
      ]
     },
     "execution_count": 68,
     "metadata": {},
     "output_type": "execute_result"
    }
   ],
   "source": [
    "data.embarked.fillna(data.embarked.mode()[0],inplace=True)\n",
    "data.embarked.isnull().sum()"
   ]
  },
  {
   "cell_type": "markdown",
   "metadata": {
    "nbpresent": {
     "id": "f6a566de-bd60-4754-b85d-2feead1663e3"
    }
   },
   "source": [
    "So it looks like passengers who boarded in Cherbourg have a much higher survival rate than those from Queenstown or Southampton."
   ]
  },
  {
   "cell_type": "markdown",
   "metadata": {
    "nbpresent": {
     "id": "6c556c3e-83ab-44d5-8777-afd054d60484"
    }
   },
   "source": [
    "### Fare / Ticket Price"
   ]
  },
  {
   "cell_type": "markdown",
   "metadata": {
    "nbpresent": {
     "id": "147250f0-7093-4c0e-b6ce-00b6f81126d4"
    }
   },
   "source": [
    "How does fare vary by class?"
   ]
  },
  {
   "cell_type": "code",
   "execution_count": 69,
   "metadata": {
    "collapsed": false,
    "nbpresent": {
     "id": "521d1066-10da-4b79-a872-38fa515d64de"
    }
   },
   "outputs": [
    {
     "data": {
      "image/png": "[encoded data removed]",
      "text/plain": [
       "<matplotlib.figure.Figure at 0x11b91aeb8>"
      ]
     },
     "metadata": {},
     "output_type": "display_data"
    },
    {
     "data": {
      "image/png": "[encoded data removed]",
      "text/plain": [
       "<matplotlib.figure.Figure at 0x11d019860>"
      ]
     },
     "metadata": {},
     "output_type": "display_data"
    }
   ],
   "source": [
    "fig, (ax1, ax2) = plt.subplots(1,2,figsize=(15,5))\n",
    "g = sns.distplot(data.fare,ax=ax1,kde=False)\n",
    "g.set_ylabel('Frequency')\n",
    "g.set_xlim([0, 100])\n",
    "\n",
    "\n",
    "group = data.groupby('pclass',as_index=False).agg('mean')\n",
    "g = sns.barplot(x='pclass',y='fare',data=data, ax=ax2)\n",
    "g.set_xlabel('Passenger Class')\n",
    "g.set_ylabel('Average Fare')\n",
    "plt.show()\n",
    "\n",
    "g = sns.factorplot(x='survived',y='fare',col='pclass',data=data,kind='bar',size=5, aspect=1)\n",
    "g.set_xticklabels(['Died','Survived'])\n",
    "g.set_axis_labels(\"\",\"Average Fare\")\n",
    "titles = [\"First Class\", \"Second Class\", \"Third Class\"]\n",
    "for ax, title in zip(g.axes.flat, titles):\n",
    "    ax.set_title(title)\n",
    "plt.show()"
   ]
  },
  {
   "cell_type": "markdown",
   "metadata": {
    "nbpresent": {
     "id": "4df2bed3-4de5-4e8d-8c25-df3da0514dd9"
    }
   },
   "source": [
    "Wow, there is a big difference in fares between classes."
   ]
  },
  {
   "cell_type": "markdown",
   "metadata": {
    "nbpresent": {
     "id": "3795a935-d314-4a59-bb06-630bf631416b"
    }
   },
   "source": [
    "### Cabin Type"
   ]
  },
  {
   "cell_type": "code",
   "execution_count": 70,
   "metadata": {
    "collapsed": false,
    "nbpresent": {
     "id": "bba9b751-505c-4781-8fae-3e8dbe943f29"
    }
   },
   "outputs": [
    {
     "data": {
      "text/plain": [
       "NaN            687\n",
       "G6               4\n",
       "B96 B98          4\n",
       "C23 C25 C27      4\n",
       "C22 C26          3\n",
       "F33              3\n",
       "F2               3\n",
       "E101             3\n",
       "D                3\n",
       "C78              2\n",
       "Name: cabin, dtype: int64"
      ]
     },
     "execution_count": 70,
     "metadata": {},
     "output_type": "execute_result"
    }
   ],
   "source": [
    "data.cabin.value_counts(dropna=False).head(10)"
   ]
  },
  {
   "cell_type": "markdown",
   "metadata": {
    "nbpresent": {
     "id": "de1ae27c-ea71-4160-8015-fe7ac92cd2b0"
    }
   },
   "source": [
    "According to https://en.wikipedia.org/wiki/RMS_Titanic, there are 10 different decks, and only 7 (A, B, C, D, E, F, G) were used for passenger accomodations. Let's strip out the letter from the cabin number and assigned it as its own variable."
   ]
  },
  {
   "cell_type": "code",
   "execution_count": 71,
   "metadata": {
    "collapsed": false,
    "nbpresent": {
     "id": "4177ffc7-2a8f-40f2-8282-c44172820bb7"
    }
   },
   "outputs": [],
   "source": [
    "#lets convert the n/a values to \"N\" so we can know if they had a cabin or not.\n",
    "data.cabin = data.cabin.fillna('N')"
   ]
  },
  {
   "cell_type": "code",
   "execution_count": 72,
   "metadata": {
    "collapsed": false,
    "nbpresent": {
     "id": "b00ca69e-e090-4d19-9a6d-960a22ebe6da"
    },
    "scrolled": true
   },
   "outputs": [],
   "source": [
    "def find_deck(cabin):\n",
    "    if len(cabin) > 0:\n",
    "        deck = str(cabin)[0]\n",
    "        return deck\n",
    "    \n",
    "data['deck'] = data.cabin.apply(lambda x: find_deck(x))"
   ]
  },
  {
   "cell_type": "code",
   "execution_count": 73,
   "metadata": {
    "collapsed": false,
    "nbpresent": {
     "id": "346ba6a1-ad69-4a0e-b830-c67f809b5ecc"
    }
   },
   "outputs": [
    {
     "data": {
      "image/png": "[encoded data removed]",
      "text/plain": [
       "<matplotlib.figure.Figure at 0x11b7d7470>"
      ]
     },
     "metadata": {},
     "output_type": "display_data"
    }
   ],
   "source": [
    "fig, (ax1, ax2) = plt.subplots(1, 2, figsize=(10,5))\n",
    "g = sns.countplot(x='deck', data=data, ax=ax1, order=['A','B','C','D','E','F','G','N'])\n",
    "g = sns.barplot(x='deck', y='survived', data=data, ci=None, order=['A','B','C','D','E','F','G','N'], ax=ax2)\n",
    "g.set_ylabel('Survival Rate')\n",
    "plt.show()"
   ]
  },
  {
   "cell_type": "markdown",
   "metadata": {
    "nbpresent": {
     "id": "be4e277c-eb85-4dde-9d5c-b8346b6b87dd"
    }
   },
   "source": [
    "So it looks like there is definitely a better chance for survival if they passengers had a cabin.\n",
    "\n",
    "Let's clean up the mapping to just the decks we know about. I'm not sure what's happening with the `T` value, but let's just assume it's not a cabin."
   ]
  },
  {
   "cell_type": "code",
   "execution_count": 74,
   "metadata": {
    "collapsed": false,
    "nbpresent": {
     "id": "00786e38-f6f7-4c6e-8f6b-18a724bb36a2"
    }
   },
   "outputs": [],
   "source": [
    "data.deck = pd.Series([x  if (x in ['A','B','C','D','E','F','G']) else None for x in data.deck])"
   ]
  },
  {
   "cell_type": "code",
   "execution_count": 75,
   "metadata": {
    "collapsed": false,
    "nbpresent": {
     "id": "8ed0b3e2-2a89-4a49-9d0b-50ba0b31575e"
    }
   },
   "outputs": [
    {
     "data": {
      "text/plain": [
       "0    688\n",
       "1    203\n",
       "Name: has_cabin, dtype: int64"
      ]
     },
     "execution_count": 75,
     "metadata": {},
     "output_type": "execute_result"
    }
   ],
   "source": [
    "data['has_cabin'] = [1 if x else 0 for x in ~data.deck.isnull()]\n",
    "data.has_cabin.value_counts()"
   ]
  },
  {
   "cell_type": "markdown",
   "metadata": {
    "nbpresent": {
     "id": "beebb449-da91-4db9-a86c-30a8f7965d35"
    }
   },
   "source": [
    "I wonder how many people have cabins based on the class?"
   ]
  },
  {
   "cell_type": "code",
   "execution_count": 102,
   "metadata": {
    "collapsed": false,
    "nbpresent": {
     "id": "dd770de0-ef4e-4b7b-a018-c25d079e2247"
    }
   },
   "outputs": [
    {
     "data": {
      "text/plain": [
       "<seaborn.axisgrid.FacetGrid at 0x11d980da0>"
      ]
     },
     "execution_count": 102,
     "metadata": {},
     "output_type": "execute_result"
    },
    {
     "data": {
      "image/png": "[encoded data removed]",
      "text/plain": [
       "<matplotlib.figure.Figure at 0x11e478860>"
      ]
     },
     "metadata": {},
     "output_type": "display_data"
    },
    {
     "data": {
      "image/png": "[encoded data removed]",
      "text/plain": [
       "<matplotlib.figure.Figure at 0x114f07e48>"
      ]
     },
     "metadata": {},
     "output_type": "display_data"
    }
   ],
   "source": [
    "\n",
    "g = sns.factorplot(x='has_cabin',y='survived',col='pclass',data=data,ci=None,kind='bar',order=[0,1])\n",
    "g.set_xticklabels(['No Cabin','Has Cabin'])\n",
    "g.set_axis_labels('',\"Surival Rate\")\n",
    "titles = [\"First Class\", \"Second Class\", \"Third Class\"]\n",
    "for ax, title in zip(g.axes.flat, titles):\n",
    "    ax.set_title(title)\n",
    "g = sns.factorplot(x='has_cabin',y='fare',col='pclass',data=data,ci=None,kind='bar',order=[0,1])\n",
    "g.set_xticklabels(['No Cabin','Has Cabin'])\n",
    "g.set_axis_labels('',\"Average Fare\")\n",
    "g.set_titles(\"\")"
   ]
  },
  {
   "cell_type": "code",
   "execution_count": null,
   "metadata": {
    "collapsed": false,
    "nbpresent": {
     "id": "c4d682cd-1a25-403a-9dfb-39457657fd64"
    }
   },
   "outputs": [],
   "source": []
  },
  {
   "cell_type": "markdown",
   "metadata": {
    "nbpresent": {
     "id": "64253fa8-c63a-41f6-80fc-eb536403850e"
    }
   },
   "source": [
    "### Ticket Numbers\n",
    "Let's look at the ticket variable. How many unique ticket values are there?"
   ]
  },
  {
   "cell_type": "code",
   "execution_count": 125,
   "metadata": {
    "collapsed": false,
    "nbpresent": {
     "id": "8e3ea783-b3b4-4302-b397-b375a885dc2c"
    }
   },
   "outputs": [
    {
     "data": {
      "text/plain": [
       "count          891\n",
       "unique         681\n",
       "top       CA. 2343\n",
       "freq             7\n",
       "Name: ticket, dtype: object"
      ]
     },
     "execution_count": 125,
     "metadata": {},
     "output_type": "execute_result"
    }
   ],
   "source": [
    "data.ticket.describe()"
   ]
  },
  {
   "cell_type": "code",
   "execution_count": 126,
   "metadata": {
    "collapsed": false,
    "nbpresent": {
     "id": "7ebc79ed-c6d1-4736-9c61-5cc7a127b6c7"
    },
    "scrolled": false
   },
   "outputs": [
    {
     "data": {
      "text/plain": [
       "array(['A/5 21171', 'PC 17599', 'STON/O2. 3101282', '113803', '373450',\n",
       "       '330877', '17463', '349909', '347742', '237736'], dtype=object)"
      ]
     },
     "execution_count": 126,
     "metadata": {},
     "output_type": "execute_result"
    }
   ],
   "source": [
    "data.ticket.unique()[:10]"
   ]
  },
  {
   "cell_type": "markdown",
   "metadata": {
    "nbpresent": {
     "id": "0ff2e69e-dd1b-48cb-9cda-c186617fae11"
    }
   },
   "source": [
    "Wow there are a lot of values. Let's see if we can remove the numbers and spaces and see if there are any commonalities."
   ]
  },
  {
   "cell_type": "code",
   "execution_count": 137,
   "metadata": {
    "collapsed": false
   },
   "outputs": [
    {
     "data": {
      "text/plain": [
       "             661\n",
       "PC            60\n",
       "CA            41\n",
       "A             28\n",
       "STONO         18\n",
       "SOTONOQ       15\n",
       "WC            10\n",
       "SCPARIS        7\n",
       "SOC            6\n",
       "FCC            5\n",
       "C              5\n",
       "LINE           4\n",
       "SCParis        4\n",
       "WEP            3\n",
       "PP             3\n",
       "SOPP           3\n",
       "SWPP           2\n",
       "SCAH           2\n",
       "PPP            2\n",
       "SOTONO         2\n",
       "SC             1\n",
       "AS             1\n",
       "FC             1\n",
       "SP             1\n",
       "SCA            1\n",
       "SOP            1\n",
       "Fa             1\n",
       "SCAHBasle      1\n",
       "CASOTON        1\n",
       "SCOW           1\n",
       "Name: ticket_prefix, dtype: int64"
      ]
     },
     "execution_count": 137,
     "metadata": {},
     "output_type": "execute_result"
    }
   ],
   "source": [
    "data['ticket_prefix'] = data.ticket.apply(lambda x: re.sub('[^A-Za-z]+', '', x))\n",
    "data.ticket_prefix.value_counts()"
   ]
  },
  {
   "cell_type": "code",
   "execution_count": 219,
   "metadata": {
    "collapsed": false,
    "nbpresent": {
     "id": "aeacac69-5e92-4633-94a0-2b5eebc0be22"
    }
   },
   "outputs": [
    {
     "data": {
      "image/png": "[encoded data removed]",
      "text/plain": [
       "<matplotlib.figure.Figure at 0x126b90cf8>"
      ]
     },
     "metadata": {},
     "output_type": "display_data"
    }
   ],
   "source": [
    "fig, (ax1, ax2) = plt.subplots(2,1,figsize=(15,6))\n",
    "g = sns.countplot(x='ticket_prefix',data=data,ax=ax1)\n",
    "labels = g.get_xticklabels()\n",
    "g.set_xticklabels(labels, rotation='vertical')\n",
    "g = sns.barplot(x='ticket_prefix',y='survived',data=data,ci=None,ax=ax2)\n",
    "labels = g.get_xticklabels()\n",
    "g.set_xticklabels(labels, rotation='vertical')\n",
    "plt.show()"
   ]
  },
  {
   "cell_type": "markdown",
   "metadata": {
    "nbpresent": {
     "id": "fb4eeed3-758b-48fb-acc0-fd1d48c1b39e"
    }
   },
   "source": [
    "I wonder if having a ticket prefix matters for survival?"
   ]
  },
  {
   "cell_type": "code",
   "execution_count": 139,
   "metadata": {
    "collapsed": false,
    "nbpresent": {
     "id": "58f24a6d-f4a3-4cc5-b4fe-311cd7d719c0"
    }
   },
   "outputs": [],
   "source": [
    "def has_prefix(string):\n",
    "    if re.search('[A-Za-z]+',string) is not None:\n",
    "        return 1\n",
    "    else:\n",
    "        return 0\n",
    "    \n",
    "data['has_prefix'] = data.ticket.apply(has_prefix)"
   ]
  },
  {
   "cell_type": "code",
   "execution_count": 140,
   "metadata": {
    "collapsed": false,
    "nbpresent": {
     "id": "3bd162b9-be83-41de-9a28-59a18b042ec1"
    }
   },
   "outputs": [
    {
     "data": {
      "text/plain": [
       "<seaborn.axisgrid.FacetGrid at 0x121fb85c0>"
      ]
     },
     "execution_count": 140,
     "metadata": {},
     "output_type": "execute_result"
    },
    {
     "data": {
      "image/png": "[encoded data removed]",
      "text/plain": [
       "<matplotlib.figure.Figure at 0x121fb83c8>"
      ]
     },
     "metadata": {},
     "output_type": "display_data"
    }
   ],
   "source": [
    "g = sns.factorplot(x='has_prefix',y='survived',col='pclass',data=data,kind='bar',ci=None)\n",
    "g.set_xticklabels(['No Prefix','Has Prefix'])"
   ]
  },
  {
   "cell_type": "markdown",
   "metadata": {
    "nbpresent": {
     "id": "99eb8813-ab66-4996-97d1-1726c6d9484e"
    }
   },
   "source": [
    "So it looks like having a ticket prefix doesn't matter."
   ]
  },
  {
   "cell_type": "markdown",
   "metadata": {
    "nbpresent": {
     "id": "94d86932-a5af-46d2-97f9-cfd2fff02e73"
    }
   },
   "source": [
    "What if the length of the number matters?"
   ]
  },
  {
   "cell_type": "code",
   "execution_count": 82,
   "metadata": {
    "collapsed": false,
    "nbpresent": {
     "id": "d753431b-a829-45b6-96b7-4cceedc07367"
    }
   },
   "outputs": [],
   "source": [
    "data['ticket_number'] = data.ticket.apply(lambda x: re.sub('[^0-9]+', \"\", x))\n",
    "data.ticket_number = pd.to_numeric(data.ticket_number)"
   ]
  },
  {
   "cell_type": "code",
   "execution_count": 83,
   "metadata": {
    "collapsed": false,
    "nbpresent": {
     "id": "7bb961bf-9a13-4766-b8fd-2103d73fd61c"
    }
   },
   "outputs": [
    {
     "data": {
      "text/html": [
       "<div>\n",
       "<table border=\"1\" class=\"dataframe\">\n",
       "  <thead>\n",
       "    <tr style=\"text-align: right;\">\n",
       "      <th></th>\n",
       "      <th>ticket_number</th>\n",
       "      <th>survived</th>\n",
       "    </tr>\n",
       "  </thead>\n",
       "  <tbody>\n",
       "    <tr>\n",
       "      <th>ticket_number</th>\n",
       "      <td>1.000000</td>\n",
       "      <td>-0.015921</td>\n",
       "    </tr>\n",
       "    <tr>\n",
       "      <th>survived</th>\n",
       "      <td>-0.015921</td>\n",
       "      <td>1.000000</td>\n",
       "    </tr>\n",
       "  </tbody>\n",
       "</table>\n",
       "</div>"
      ],
      "text/plain": [
       "               ticket_number  survived\n",
       "ticket_number       1.000000 -0.015921\n",
       "survived           -0.015921  1.000000"
      ]
     },
     "execution_count": 83,
     "metadata": {},
     "output_type": "execute_result"
    }
   ],
   "source": [
    "data[['ticket_number','survived']].corr()"
   ]
  },
  {
   "cell_type": "markdown",
   "metadata": {
    "nbpresent": {
     "id": "957e09e5-f898-42ff-852b-cd986f858ff6"
    }
   },
   "source": [
    "Darn. All that work and it looks like the ticket doesn't realy matter."
   ]
  },
  {
   "cell_type": "markdown",
   "metadata": {
    "nbpresent": {
     "id": "427d2aa5-75b8-4c6f-9e3e-8d6f6a236bec"
    }
   },
   "source": [
    "### Family Members\n",
    "Does family matter?"
   ]
  },
  {
   "cell_type": "code",
   "execution_count": 210,
   "metadata": {
    "collapsed": false,
    "nbpresent": {
     "id": "123a42b7-6ee4-4824-b411-1c99cac2d0d7"
    }
   },
   "outputs": [
    {
     "data": {
      "text/plain": [
       "<seaborn.axisgrid.PairGrid at 0x1284aec18>"
      ]
     },
     "execution_count": 210,
     "metadata": {},
     "output_type": "execute_result"
    },
    {
     "data": {
      "image/png": "[encoded data removed]",
      "text/plain": [
       "<matplotlib.figure.Figure at 0x1284a9cf8>"
      ]
     },
     "metadata": {},
     "output_type": "display_data"
    }
   ],
   "source": [
    "g = sns.PairGrid(x_vars=['parch','sibsp'],y_vars='survived',data=data,size=5)\n",
    "g.map(sns.barplot,ci=None)"
   ]
  },
  {
   "cell_type": "code",
   "execution_count": null,
   "metadata": {
    "collapsed": false,
    "nbpresent": {
     "id": "1a988c76-5c6a-4185-be27-c93de2d02e58"
    }
   },
   "outputs": [],
   "source": []
  },
  {
   "cell_type": "markdown",
   "metadata": {
    "nbpresent": {
     "id": "03a96bff-2e9d-4328-9995-2e0727f3f3de"
    }
   },
   "source": [
    "Let's create a new variable based on the total family size:"
   ]
  },
  {
   "cell_type": "code",
   "execution_count": 166,
   "metadata": {
    "collapsed": false,
    "nbpresent": {
     "id": "136f0b8c-14f6-4559-903e-2ff6d1685587"
    }
   },
   "outputs": [],
   "source": [
    "data['fam_size'] = data.sibsp + data.parch + 1"
   ]
  },
  {
   "cell_type": "code",
   "execution_count": 169,
   "metadata": {
    "collapsed": false
   },
   "outputs": [
    {
     "data": {
      "text/plain": [
       "<matplotlib.text.Text at 0x125ca5fd0>"
      ]
     },
     "execution_count": 169,
     "metadata": {},
     "output_type": "execute_result"
    },
    {
     "data": {
      "image/png": "[encoded data removed]",
      "text/plain": [
       "<matplotlib.figure.Figure at 0x12527db70>"
      ]
     },
     "metadata": {},
     "output_type": "display_data"
    }
   ],
   "source": [
    "fig, (ax1,ax2) = plt.subplots(1,2,figsize=(10,5))\n",
    "g = sns.countplot(x='fam_size',data=data,ax=ax1)\n",
    "g.set_xlabel('Family Size')\n",
    "g.set_ylabel('Total Count')\n",
    "g = sns.barplot(x='fam_size',y='survived',data=data,ci=None,ax=ax2)\n",
    "g.set_xlabel('Family Size')\n",
    "g.set_ylabel('Survival Rate')"
   ]
  },
  {
   "cell_type": "markdown",
   "metadata": {
    "nbpresent": {
     "id": "479767cb-3bfa-4d10-8f41-a285311be3de"
    }
   },
   "source": [
    "It looks like there is a correlation to survival rate based on the family size. There is a more than 50% chance of survival for family sizes of 2, 3, and 4 people. However, it decreases for families over 5 people."
   ]
  },
  {
   "cell_type": "markdown",
   "metadata": {
    "nbpresent": {
     "id": "0edfb7ef-bc45-440e-aec3-e57f46fdeb0b"
    }
   },
   "source": [
    "### Name\n",
    "Let's look at the name:"
   ]
  },
  {
   "cell_type": "code",
   "execution_count": 204,
   "metadata": {
    "collapsed": false
   },
   "outputs": [
    {
     "data": {
      "text/plain": [
       "count                         891\n",
       "unique                        891\n",
       "top       Hedman, Mr. Oskar Arvid\n",
       "freq                            1\n",
       "Name: name, dtype: object"
      ]
     },
     "execution_count": 204,
     "metadata": {},
     "output_type": "execute_result"
    }
   ],
   "source": [
    "data.name.describe()"
   ]
  },
  {
   "cell_type": "markdown",
   "metadata": {
    "nbpresent": {
     "id": "6d719ff2-186b-46ce-ad7f-cd22f248f068"
    }
   },
   "source": [
    "So it looks like all of the names are unique. Lets extract the title from the names:"
   ]
  },
  {
   "cell_type": "code",
   "execution_count": 197,
   "metadata": {
    "collapsed": true,
    "nbpresent": {
     "id": "495e33be-36e8-44e7-b143-e84905f3b810"
    }
   },
   "outputs": [],
   "source": [
    "def get_title(name):\n",
    "    # Use a regular expression to search for a title.  \n",
    "    #Titles always consist of capital and lowercase letters, and end with a period.\n",
    "    title_search = re.search(' ([A-Za-z]+)\\.', name)\n",
    "    # If the title exists, extract and return it.\n",
    "    if title_search:\n",
    "        return title_search.group(1)\n",
    "    return \"\"\n",
    "\n",
    "data['title'] = data.name.apply(get_title)"
   ]
  },
  {
   "cell_type": "code",
   "execution_count": 199,
   "metadata": {
    "collapsed": false,
    "nbpresent": {
     "id": "1aaa9268-a39d-4d02-a1a9-b4b41694c42c"
    }
   },
   "outputs": [
    {
     "data": {
      "text/plain": [
       "<matplotlib.text.Text at 0x1272b4588>"
      ]
     },
     "execution_count": 199,
     "metadata": {},
     "output_type": "execute_result"
    },
    {
     "data": {
      "image/png": "[encoded data removed]",
      "text/plain": [
       "<matplotlib.figure.Figure at 0x124dd35c0>"
      ]
     },
     "metadata": {},
     "output_type": "display_data"
    }
   ],
   "source": [
    "fig, (ax1,ax2) = plt.subplots(2,1,figsize=(14,10))\n",
    "g = sns.countplot(x='title',data=data,ax=ax1)\n",
    "g.set_ylabel('Count')\n",
    "g.set_xlabel('')\n",
    "g = sns.barplot(x='title',y='survived',data=data,ci=None,ax=ax2)\n",
    "g.set_ylabel('Survival Rate')\n",
    "g.set_xlabel('Title')"
   ]
  },
  {
   "cell_type": "markdown",
   "metadata": {
    "nbpresent": {
     "id": "30ecb3b6-025d-40c3-a899-591a335a1ed6"
    }
   },
   "source": [
    "So it looks like there are several rare titles, which have high survival rates. Let's group together some of the rare titles."
   ]
  },
  {
   "cell_type": "code",
   "execution_count": 205,
   "metadata": {
    "collapsed": true
   },
   "outputs": [],
   "source": [
    "data.title = data.title.replace(['Lady', 'Countess','Capt', 'Col','Don', 'Dr', \\\n",
    "                                             'Major', 'Rev', 'Sir', 'Jonkheer', 'Dona'], 'Rare')\n",
    "data.title = data.title.replace('Mlle', 'Miss')\n",
    "data.title = data.title.replace('Ms', 'Miss')\n",
    "data.title = data.title.replace('Mme', 'Mrs')"
   ]
  },
  {
   "cell_type": "code",
   "execution_count": 206,
   "metadata": {
    "collapsed": false,
    "nbpresent": {
     "id": "4ea160ef-97b9-4801-a4d0-406c256bc890"
    }
   },
   "outputs": [
    {
     "data": {
      "text/plain": [
       "<seaborn.axisgrid.FacetGrid at 0x1275c3940>"
      ]
     },
     "execution_count": 206,
     "metadata": {},
     "output_type": "execute_result"
    },
    {
     "data": {
      "image/png": "[encoded data removed]",
      "text/plain": [
       "<matplotlib.figure.Figure at 0x128185080>"
      ]
     },
     "metadata": {},
     "output_type": "display_data"
    },
    {
     "data": {
      "image/png": "[encoded data removed]",
      "text/plain": [
       "<matplotlib.figure.Figure at 0x1288a5be0>"
      ]
     },
     "metadata": {},
     "output_type": "display_data"
    }
   ],
   "source": [
    "sns.factorplot(x='title',col='pclass',data=data,ci=None,kind='count')\n",
    "sns.factorplot(x='title',y='survived',col='pclass',data=data,ci=None,kind='bar')"
   ]
  },
  {
   "cell_type": "markdown",
   "metadata": {
    "nbpresent": {
     "id": "86d9d4d2-166a-4578-996e-1da0a8a795c4"
    }
   },
   "source": [
    "It looks like there are significantly more `Mr` title in third class. Overall, it looks like the survival rate is much higher for female and rare titles in first and second class.\n",
    "\n",
    "Let's create a unique family id based on the last name and family size:"
   ]
  },
  {
   "cell_type": "code",
   "execution_count": 96,
   "metadata": {
    "collapsed": false,
    "nbpresent": {
     "id": "965e63b0-1e2d-4547-8ed4-215f22d29461"
    }
   },
   "outputs": [
    {
     "data": {
      "text/plain": [
       "Andersson    9\n",
       "Sage         7\n",
       "Johnson      6\n",
       "Panula       6\n",
       "Carter       6\n",
       "Goodwin      6\n",
       "Skoog        6\n",
       "Rice         5\n",
       "Williams     4\n",
       "Harris       4\n",
       "Name: family_name, dtype: int64"
      ]
     },
     "execution_count": 96,
     "metadata": {},
     "output_type": "execute_result"
    }
   ],
   "source": [
    "def find_last_name(name):\n",
    "    return name.split(',')[0]\n",
    "data['family_name'] = data.name.apply(find_last_name)\n",
    "data.family_name.value_counts().head(10)"
   ]
  },
  {
   "cell_type": "code",
   "execution_count": 97,
   "metadata": {
    "collapsed": false,
    "nbpresent": {
     "id": "5ac6ccbd-aedd-4eb7-87b3-d6e069804801"
    }
   },
   "outputs": [
    {
     "data": {
      "text/plain": [
       "NaN           800\n",
       "Andersson7      8\n",
       "Sage11          7\n",
       "Panula6         6\n",
       "Goodwin8        6\n",
       "Skoog6          6\n",
       "Rice6           5\n",
       "Palsson5        4\n",
       "Ford5           4\n",
       "Lefebre5        4\n",
       "Name: fam_id, dtype: int64"
      ]
     },
     "execution_count": 97,
     "metadata": {},
     "output_type": "execute_result"
    }
   ],
   "source": [
    "def family_id(row):\n",
    "    last_name = find_last_name(row['name'])\n",
    "    if row['fam_size'] > 3:\n",
    "        fam_id = \"{0}{1}\".format(last_name,row['fam_size'])\n",
    "        return fam_id\n",
    "    else:\n",
    "        return None\n",
    "data['fam_id'] = data.apply(family_id,axis=1)\n",
    "data.fam_id.value_counts(dropna=False).head(10)"
   ]
  },
  {
   "cell_type": "markdown",
   "metadata": {
    "nbpresent": {
     "id": "bd79033a-fbbe-4f86-b418-c28a36f0a4e9"
    }
   },
   "source": [
    "Let's see if there is a correlation between having a family_id and survival."
   ]
  },
  {
   "cell_type": "code",
   "execution_count": 98,
   "metadata": {
    "collapsed": false,
    "nbpresent": {
     "id": "beceb1d5-2780-44b7-ac86-0323b9713431"
    }
   },
   "outputs": [
    {
     "data": {
      "text/html": [
       "<div>\n",
       "<table border=\"1\" class=\"dataframe\">\n",
       "  <thead>\n",
       "    <tr style=\"text-align: right;\">\n",
       "      <th></th>\n",
       "      <th>has_fam_id</th>\n",
       "      <th>survived</th>\n",
       "    </tr>\n",
       "  </thead>\n",
       "  <tbody>\n",
       "    <tr>\n",
       "      <th>has_fam_id</th>\n",
       "      <td>1.000000</td>\n",
       "      <td>0.029945</td>\n",
       "    </tr>\n",
       "    <tr>\n",
       "      <th>survived</th>\n",
       "      <td>0.029945</td>\n",
       "      <td>1.000000</td>\n",
       "    </tr>\n",
       "  </tbody>\n",
       "</table>\n",
       "</div>"
      ],
      "text/plain": [
       "            has_fam_id  survived\n",
       "has_fam_id    1.000000  0.029945\n",
       "survived      0.029945  1.000000"
      ]
     },
     "execution_count": 98,
     "metadata": {},
     "output_type": "execute_result"
    }
   ],
   "source": [
    "data['has_fam_id'] = [1 if x else 0 for x in data.fam_id.isnull() ]\n",
    "data[['has_fam_id','survived']].corr()"
   ]
  },
  {
   "cell_type": "markdown",
   "metadata": {
    "nbpresent": {
     "id": "c27795c1-fea7-47d0-9c4b-fb721cb50be3"
    }
   },
   "source": [
    "Eh, it doesn't look like a significant correlation."
   ]
  },
  {
   "cell_type": "code",
   "execution_count": null,
   "metadata": {
    "collapsed": true,
    "nbpresent": {
     "id": "90093679-5f7d-4fc0-9f68-7ff2ce6c98c6"
    }
   },
   "outputs": [],
   "source": []
  }
 ],
 "metadata": {
  "anaconda-cloud": {},
  "kernelspec": {
   "display_name": "Python [Root]",
   "language": "python",
   "name": "Python [Root]"
  },
  "language_info": {
   "codemirror_mode": {
    "name": "ipython",
    "version": 3
   },
   "file_extension": ".py",
   "mimetype": "text/x-python",
   "name": "python",
   "nbconvert_exporter": "python",
   "pygments_lexer": "ipython3",
   "version": "3.5.1"
  },
  "nbpresent": {
   "slides": {
    "0059a1a7-24d6-454f-9e6f-dd6f4b19beee": {
     "id": "0059a1a7-24d6-454f-9e6f-dd6f4b19beee",
     "prev": "9a213905-f2e9-4923-9dd3-c3e9ba774f7e",
     "regions": {
      "85887ba9-9ccc-45e7-bc88-6c05c2ab8210": {
       "attrs": {
        "height": 0.8,
        "width": 0.8,
        "x": 0.1,
        "y": 0.1
       },
       "content": {
        "cell": "c4d682cd-1a25-403a-9dfb-39457657fd64",
        "part": "whole"
       },
       "id": "85887ba9-9ccc-45e7-bc88-6c05c2ab8210"
      }
     }
    },
    "0462f2e9-b3c2-4d09-89b4-6b829b985bb1": {
     "id": "0462f2e9-b3c2-4d09-89b4-6b829b985bb1",
     "prev": "9e4998b4-cb3f-4a8d-ab62-1a0aad259d6c",
     "regions": {
      "e951f566-ac57-45e9-a876-6e21d60e048b": {
       "attrs": {
        "height": 0.8,
        "width": 0.8,
        "x": 0.1,
        "y": 0.1
       },
       "content": {
        "cell": "bba9b751-505c-4781-8fae-3e8dbe943f29",
        "part": "whole"
       },
       "id": "e951f566-ac57-45e9-a876-6e21d60e048b"
      }
     }
    },
    "083dbc9f-9fc3-4a7e-9209-9d51c89d0832": {
     "id": "083dbc9f-9fc3-4a7e-9209-9d51c89d0832",
     "prev": "d2a3494a-7e8c-49de-8481-de56468f7b6e",
     "regions": {
      "7ca53d6b-e53c-4c30-aaf8-3ac0e9c6e4a5": {
       "attrs": {
        "height": 0.8,
        "width": 0.8,
        "x": 0.1,
        "y": 0.1
       },
       "content": {
        "cell": "6d719ff2-186b-46ce-ad7f-cd22f248f068",
        "part": "whole"
       },
       "id": "7ca53d6b-e53c-4c30-aaf8-3ac0e9c6e4a5"
      }
     }
    },
    "092c0b7f-4850-4009-a9b3-5cfe97cf4bdb": {
     "id": "092c0b7f-4850-4009-a9b3-5cfe97cf4bdb",
     "prev": "28aeefde-abe6-4c63-bb8e-7111c430d5be",
     "regions": {
      "0a8e83de-b4f3-4871-aa97-d1b8a1015877": {
       "attrs": {
        "height": 0.8,
        "width": 0.8,
        "x": 0.1,
        "y": 0.1
       },
       "content": {
        "cell": "62770d41-8297-490b-bdf7-3bfdddfbab16",
        "part": "whole"
       },
       "id": "0a8e83de-b4f3-4871-aa97-d1b8a1015877"
      }
     }
    },
    "0c442ef3-0c94-4fa9-8b14-c515b91002ad": {
     "id": "0c442ef3-0c94-4fa9-8b14-c515b91002ad",
     "prev": "1049873d-cb52-4e88-b5f9-0a0e0e2ee949",
     "regions": {
      "aa2b5c85-6a7e-41c2-8083-b97cafecf3e1": {
       "attrs": {
        "height": 0.8,
        "width": 0.8,
        "x": 0.1,
        "y": 0.1
       },
       "content": {
        "cell": "30ecb3b6-025d-40c3-a899-591a335a1ed6",
        "part": "whole"
       },
       "id": "aa2b5c85-6a7e-41c2-8083-b97cafecf3e1"
      }
     }
    },
    "1049873d-cb52-4e88-b5f9-0a0e0e2ee949": {
     "id": "1049873d-cb52-4e88-b5f9-0a0e0e2ee949",
     "prev": "b327af8a-4c6b-4a5a-99e3-7744d6ba6f49",
     "regions": {
      "421d2cb3-ff09-49ba-9b94-88230f7d8263": {
       "attrs": {
        "height": 0.8,
        "width": 0.8,
        "x": 0.1,
        "y": 0.1
       },
       "content": {
        "cell": "1aaa9268-a39d-4d02-a1a9-b4b41694c42c",
        "part": "whole"
       },
       "id": "421d2cb3-ff09-49ba-9b94-88230f7d8263"
      }
     }
    },
    "137d050d-6300-4345-b934-fde9ec4082b4": {
     "id": "137d050d-6300-4345-b934-fde9ec4082b4",
     "prev": "4a9090c1-f1ee-447c-8b9b-cdeb7c484d90",
     "regions": {
      "c98d1e75-f777-42a5-8fc6-2c1ffe7a4b5d": {
       "attrs": {
        "height": 0.8,
        "width": 0.8,
        "x": 0.1,
        "y": 0.1
       },
       "content": {
        "cell": "bd79033a-fbbe-4f86-b418-c28a36f0a4e9",
        "part": "whole"
       },
       "id": "c98d1e75-f777-42a5-8fc6-2c1ffe7a4b5d"
      }
     }
    },
    "18771525-6d02-4ed6-be08-686e98b25f7d": {
     "id": "18771525-6d02-4ed6-be08-686e98b25f7d",
     "prev": "137d050d-6300-4345-b934-fde9ec4082b4",
     "regions": {
      "3425ef4f-0387-425e-a5a9-b097f8b4ac0c": {
       "attrs": {
        "height": 0.8,
        "width": 0.8,
        "x": 0.1,
        "y": 0.1
       },
       "content": {
        "cell": "beceb1d5-2780-44b7-ac86-0323b9713431",
        "part": "whole"
       },
       "id": "3425ef4f-0387-425e-a5a9-b097f8b4ac0c"
      }
     }
    },
    "18e09cd7-3027-4f9c-abe0-51601ef97228": {
     "id": "18e09cd7-3027-4f9c-abe0-51601ef97228",
     "prev": "9445809d-2911-4a6a-b01c-e2780c152fc9",
     "regions": {
      "66891fc1-3d9a-4b97-97ce-af5d50a6aa8c": {
       "attrs": {
        "height": 0.8,
        "width": 0.8,
        "x": 0.1,
        "y": 0.1
       },
       "content": {
        "cell": "521d1066-10da-4b79-a872-38fa515d64de",
        "part": "whole"
       },
       "id": "66891fc1-3d9a-4b97-97ce-af5d50a6aa8c"
      }
     }
    },
    "1c1b3a0e-b259-4af7-ac8d-f8627fdbd607": {
     "id": "1c1b3a0e-b259-4af7-ac8d-f8627fdbd607",
     "prev": "ed817aca-ddc7-4444-8046-112540f44fbe",
     "regions": {
      "f39a418f-6cc7-4532-89e3-fc5089ee4410": {
       "attrs": {
        "height": 0.8,
        "width": 0.8,
        "x": 0.1,
        "y": 0.1
       },
       "content": {
        "cell": "7526fb19-0652-4638-a83c-c289f129e165",
        "part": "whole"
       },
       "id": "f39a418f-6cc7-4532-89e3-fc5089ee4410"
      }
     }
    },
    "22a32352-96a9-4474-8aef-f83b8d5ce3c5": {
     "id": "22a32352-96a9-4474-8aef-f83b8d5ce3c5",
     "prev": "c6519b92-7c31-44d7-9ccd-659a1f380046",
     "regions": {
      "890bc537-7286-48b3-aa54-e9e4d24a5a5c": {
       "attrs": {
        "height": 0.8,
        "width": 0.8,
        "x": 0.1,
        "y": 0.1
       },
       "content": {
        "cell": "479767cb-3bfa-4d10-8f41-a285311be3de",
        "part": "whole"
       },
       "id": "890bc537-7286-48b3-aa54-e9e4d24a5a5c"
      }
     }
    },
    "28aeefde-abe6-4c63-bb8e-7111c430d5be": {
     "id": "28aeefde-abe6-4c63-bb8e-7111c430d5be",
     "prev": "da821c85-0c80-45a4-835d-49eb29a936b9",
     "regions": {
      "f6e49a25-45b5-4e74-bd5d-5712f83044fc": {
       "attrs": {
        "height": 0.8,
        "width": 0.8,
        "x": 0.1,
        "y": 0.1
       },
       "content": {
        "cell": "771f1836-041d-4216-a141-77d27283dbc9",
        "part": "whole"
       },
       "id": "f6e49a25-45b5-4e74-bd5d-5712f83044fc"
      }
     }
    },
    "2a9a35d8-39d5-48bb-ba92-92b0388a70ac": {
     "id": "2a9a35d8-39d5-48bb-ba92-92b0388a70ac",
     "prev": "d496333b-9c74-43fc-9828-fcfc784a6578",
     "regions": {
      "6ba61b2d-0537-41bb-b348-0be07fc4dc28": {
       "attrs": {
        "height": 0.8,
        "width": 0.8,
        "x": 0.1,
        "y": 0.1
       },
       "content": {
        "cell": "035ed193-a009-42c4-8b5c-6d16d877cc95",
        "part": "whole"
       },
       "id": "6ba61b2d-0537-41bb-b348-0be07fc4dc28"
      }
     }
    },
    "2c0eafbd-f265-4553-8e0a-77e78568968e": {
     "id": "2c0eafbd-f265-4553-8e0a-77e78568968e",
     "prev": "f281e8cf-39b1-4ba0-bb82-a786aae843b7",
     "regions": {
      "fc844d01-f570-469d-8fe5-700ab36db448": {
       "attrs": {
        "height": 0.8,
        "width": 0.8,
        "x": 0.1,
        "y": 0.1
       },
       "content": {
        "cell": "8e3ea783-b3b4-4302-b397-b375a885dc2c",
        "part": "whole"
       },
       "id": "fc844d01-f570-469d-8fe5-700ab36db448"
      }
     }
    },
    "2c50ed1d-7845-49e6-8f6c-e092da3e585c": {
     "id": "2c50ed1d-7845-49e6-8f6c-e092da3e585c",
     "prev": "9379e625-3716-4894-b34e-00f09e65a2f1",
     "regions": {
      "6d238d12-0ef3-4ae6-b341-083551872835": {
       "attrs": {
        "height": 0.8,
        "width": 0.8,
        "x": 0.1,
        "y": 0.1
       },
       "content": {
        "cell": "1a988c76-5c6a-4185-be27-c93de2d02e58",
        "part": "whole"
       },
       "id": "6d238d12-0ef3-4ae6-b341-083551872835"
      }
     }
    },
    "2dce99c0-cd66-408c-b969-2e2009c748af": {
     "id": "2dce99c0-cd66-408c-b969-2e2009c748af",
     "prev": "3db27139-70a6-4c4b-a263-643ae55a034a",
     "regions": {
      "2c4d1afb-89ca-4892-a589-56bf72557232": {
       "attrs": {
        "height": 0.8,
        "width": 0.8,
        "x": 0.1,
        "y": 0.1
       },
       "content": {
        "cell": "2562ece1-d9ee-4da5-9c73-adce45363718",
        "part": "whole"
       },
       "id": "2c4d1afb-89ca-4892-a589-56bf72557232"
      }
     }
    },
    "2e8c1f4f-7e4c-41cd-9a2f-79b798edab15": {
     "id": "2e8c1f4f-7e4c-41cd-9a2f-79b798edab15",
     "prev": "83c7e5ab-f47c-4cc5-a4e8-e6d5e55bfc22",
     "regions": {
      "92a7d072-8403-41d9-ae3f-10231e44cfd6": {
       "attrs": {
        "height": 0.8,
        "width": 0.8,
        "x": 0.1,
        "y": 0.1
       },
       "content": {
        "cell": "fb4eeed3-758b-48fb-acc0-fd1d48c1b39e",
        "part": "whole"
       },
       "id": "92a7d072-8403-41d9-ae3f-10231e44cfd6"
      }
     }
    },
    "314dd279-7b79-4fe5-9fbf-4ec97e037bad": {
     "id": "314dd279-7b79-4fe5-9fbf-4ec97e037bad",
     "prev": "879d75fa-b0bb-425d-ac42-c4bb68ea07b6",
     "regions": {
      "70502593-6f1f-4fb9-ae28-93cf38bd9571": {
       "attrs": {
        "height": 0.8,
        "width": 0.8,
        "x": 0.1,
        "y": 0.1
       },
       "content": {
        "cell": "3bd162b9-be83-41de-9a28-59a18b042ec1",
        "part": "whole"
       },
       "id": "70502593-6f1f-4fb9-ae28-93cf38bd9571"
      }
     }
    },
    "38ebdd8b-4136-4c3e-81b2-59cc3a4e0257": {
     "id": "38ebdd8b-4136-4c3e-81b2-59cc3a4e0257",
     "prev": "9fe01112-094d-422e-aea8-1edb5c01bf39",
     "regions": {
      "8b1110dd-1179-47b9-99d1-224dde87f249": {
       "attrs": {
        "height": 0.8,
        "width": 0.8,
        "x": 0.1,
        "y": 0.1
       },
       "content": {
        "cell": "2e5a61e4-114a-456a-abdb-af7e6716292b",
        "part": "whole"
       },
       "id": "8b1110dd-1179-47b9-99d1-224dde87f249"
      }
     }
    },
    "3db27139-70a6-4c4b-a263-643ae55a034a": {
     "id": "3db27139-70a6-4c4b-a263-643ae55a034a",
     "prev": "38ebdd8b-4136-4c3e-81b2-59cc3a4e0257",
     "regions": {
      "4762df8e-e953-4389-a3cd-808db1d070d5": {
       "attrs": {
        "height": 0.8,
        "width": 0.8,
        "x": 0.1,
        "y": 0.1
       },
       "content": {
        "cell": "f63706d5-69a4-424a-a21d-7731ef008133",
        "part": "whole"
       },
       "id": "4762df8e-e953-4389-a3cd-808db1d070d5"
      }
     }
    },
    "4008a2c8-9c31-4eb6-b42c-4c96624d33bd": {
     "id": "4008a2c8-9c31-4eb6-b42c-4c96624d33bd",
     "prev": "cfbf1c47-cf9e-4a38-af21-347711048d85",
     "regions": {
      "f89e2373-a7cb-4aba-aab2-f84f970ca636": {
       "attrs": {
        "height": 0.8,
        "width": 0.8,
        "x": 0.1,
        "y": 0.1
       },
       "content": {
        "cell": "c7709bd5-152b-46f0-84d8-980c318a8832",
        "part": "whole"
       },
       "id": "f89e2373-a7cb-4aba-aab2-f84f970ca636"
      }
     }
    },
    "40d2b89f-6028-4abc-bf48-53e061e2b429": {
     "id": "40d2b89f-6028-4abc-bf48-53e061e2b429",
     "prev": "d0c68d60-0e85-488c-b87d-8ddbb987ec70",
     "regions": {
      "a439789f-2d47-44a7-8ed0-34bb04dfcaae": {
       "attrs": {
        "height": 0.8,
        "width": 0.8,
        "x": 0.1,
        "y": 0.1
       },
       "content": {
        "cell": "7d5d4b19-cd8f-4fec-9619-a66647f6270b",
        "part": "whole"
       },
       "id": "a439789f-2d47-44a7-8ed0-34bb04dfcaae"
      }
     }
    },
    "41938ce4-af99-477a-8dae-65514e52ef35": {
     "id": "41938ce4-af99-477a-8dae-65514e52ef35",
     "prev": "2c50ed1d-7845-49e6-8f6c-e092da3e585c",
     "regions": {
      "84351de6-55fc-4331-a11f-88b8000313c2": {
       "attrs": {
        "height": 0.8,
        "width": 0.8,
        "x": 0.1,
        "y": 0.1
       },
       "content": {
        "cell": "03a96bff-2e9d-4328-9995-2e0727f3f3de",
        "part": "whole"
       },
       "id": "84351de6-55fc-4331-a11f-88b8000313c2"
      }
     }
    },
    "424a6a0b-81ae-4d5d-9090-69735dcc979e": {
     "id": "424a6a0b-81ae-4d5d-9090-69735dcc979e",
     "prev": "6b2c3e16-3015-4af8-a248-a48bb9e56c06",
     "regions": {
      "295a865a-bbf4-4b2b-8395-2e982f88d368": {
       "attrs": {
        "height": 0.8,
        "width": 0.8,
        "x": 0.1,
        "y": 0.1
       },
       "content": {
        "cell": "b77289e1-4d82-4db9-bc65-437e63e6348a",
        "part": "whole"
       },
       "id": "295a865a-bbf4-4b2b-8395-2e982f88d368"
      }
     }
    },
    "44a29588-a2ea-46f1-ac1c-cccb16dafa8a": {
     "id": "44a29588-a2ea-46f1-ac1c-cccb16dafa8a",
     "prev": "f9d7747b-857c-4c21-8f24-2ab8369e4eda",
     "regions": {
      "df6b1ebb-0f04-44f3-9974-0485095406c5": {
       "attrs": {
        "height": 0.8,
        "width": 0.8,
        "x": 0.1,
        "y": 0.1
       },
       "content": {
        "cell": "00786e38-f6f7-4c6e-8f6b-18a724bb36a2",
        "part": "whole"
       },
       "id": "df6b1ebb-0f04-44f3-9974-0485095406c5"
      }
     }
    },
    "491a6d40-e358-45b5-b732-174c8b7ce08c": {
     "id": "491a6d40-e358-45b5-b732-174c8b7ce08c",
     "prev": "a9e1dcea-9f0a-4487-8863-9388e75d1a79",
     "regions": {
      "998d2afa-b9a0-4aae-a647-b96f96a50a1a": {
       "attrs": {
        "height": 0.8,
        "width": 0.8,
        "x": 0.1,
        "y": 0.1
       },
       "content": {
        "cell": "90093679-5f7d-4fc0-9f68-7ff2ce6c98c6",
        "part": "whole"
       },
       "id": "998d2afa-b9a0-4aae-a647-b96f96a50a1a"
      }
     }
    },
    "4a9090c1-f1ee-447c-8b9b-cdeb7c484d90": {
     "id": "4a9090c1-f1ee-447c-8b9b-cdeb7c484d90",
     "prev": "cab8738c-e056-4319-91ec-992f7ca66197",
     "regions": {
      "911e8572-8751-4dec-aaa3-d7685165e271": {
       "attrs": {
        "height": 0.8,
        "width": 0.8,
        "x": 0.1,
        "y": 0.1
       },
       "content": {
        "cell": "5ac6ccbd-aedd-4eb7-87b3-d6e069804801",
        "part": "whole"
       },
       "id": "911e8572-8751-4dec-aaa3-d7685165e271"
      }
     }
    },
    "4ae9d40a-dd84-4904-b36a-a854c1bdff7b": {
     "id": "4ae9d40a-dd84-4904-b36a-a854c1bdff7b",
     "prev": "083dbc9f-9fc3-4a7e-9209-9d51c89d0832",
     "regions": {
      "e8d1b900-82eb-4610-81e1-d651ec885967": {
       "attrs": {
        "height": 0.8,
        "width": 0.8,
        "x": 0.1,
        "y": 0.1
       },
       "content": {
        "cell": "495e33be-36e8-44e7-b143-e84905f3b810",
        "part": "whole"
       },
       "id": "e8d1b900-82eb-4610-81e1-d651ec885967"
      }
     }
    },
    "51263c7b-f62d-44f1-864a-1ea8352351f0": {
     "id": "51263c7b-f62d-44f1-864a-1ea8352351f0",
     "prev": "ca8c448d-d3c1-498f-987e-d7b5918ba39d",
     "regions": {
      "607801eb-b174-41f5-bab7-7fc31301aa9d": {
       "attrs": {
        "height": 0.8,
        "width": 0.8,
        "x": 0.1,
        "y": 0.1
       },
       "content": {
        "cell": "2b3c35b0-69d9-45ce-ba69-736b3728db22",
        "part": "whole"
       },
       "id": "607801eb-b174-41f5-bab7-7fc31301aa9d"
      }
     }
    },
    "513368cb-fad4-4881-bdcc-195c1e5c9d6c": {
     "id": "513368cb-fad4-4881-bdcc-195c1e5c9d6c",
     "prev": "f257ab70-36a9-415e-aaee-77dc6177f90c",
     "regions": {
      "1c3c5217-1ef1-44de-8f65-8e079939e026": {
       "attrs": {
        "height": 0.8,
        "width": 0.8,
        "x": 0.1,
        "y": 0.1
       },
       "content": {
        "cell": "d753431b-a829-45b6-96b7-4cceedc07367",
        "part": "whole"
       },
       "id": "1c3c5217-1ef1-44de-8f65-8e079939e026"
      }
     }
    },
    "51d5b843-38c0-4ca2-a335-8cc3e1fd43a1": {
     "id": "51d5b843-38c0-4ca2-a335-8cc3e1fd43a1",
     "prev": "4ae9d40a-dd84-4904-b36a-a854c1bdff7b",
     "regions": {
      "6362a0aa-068f-4804-b197-2424c6fda4ac": {
       "attrs": {
        "height": 0.8,
        "width": 0.8,
        "x": 0.1,
        "y": 0.1
       },
       "content": {
        "cell": "a5395b7e-ec34-4b52-98e5-e96572c0d0f3",
        "part": "whole"
       },
       "id": "6362a0aa-068f-4804-b197-2424c6fda4ac"
      }
     }
    },
    "547e4bb3-ee11-4ca8-a46e-c83ebedc5249": {
     "id": "547e4bb3-ee11-4ca8-a46e-c83ebedc5249",
     "prev": "7b75d9a7-975c-4b4d-9edb-c33097f2c66b",
     "regions": {
      "314c6e37-3618-4586-9cfa-9ce2ae1bcbac": {
       "attrs": {
        "height": 0.8,
        "width": 0.8,
        "x": 0.1,
        "y": 0.1
       },
       "content": {
        "cell": "86d9d4d2-166a-4578-996e-1da0a8a795c4",
        "part": "whole"
       },
       "id": "314c6e37-3618-4586-9cfa-9ce2ae1bcbac"
      }
     }
    },
    "555ee826-9601-476e-9c4c-d3ab07c19388": {
     "id": "555ee826-9601-476e-9c4c-d3ab07c19388",
     "prev": "7b337060-6e9d-4e89-9f71-eba6b7025657",
     "regions": {
      "a03a64a3-ac6f-4fda-9fdf-0339ced856b8": {
       "attrs": {
        "height": 0.8,
        "width": 0.8,
        "x": 0.1,
        "y": 0.1
       },
       "content": {
        "cell": "b00ca69e-e090-4d19-9a6d-960a22ebe6da",
        "part": "whole"
       },
       "id": "a03a64a3-ac6f-4fda-9fdf-0339ced856b8"
      }
     }
    },
    "590cd1c8-4b0e-483e-8b66-9fc3cda9d4bd": {
     "id": "590cd1c8-4b0e-483e-8b66-9fc3cda9d4bd",
     "prev": "f5f296aa-b70d-425c-a960-e94b561c0684",
     "regions": {
      "9f130cef-565c-4e68-b393-322e69928953": {
       "attrs": {
        "height": 0.8,
        "width": 0.8,
        "x": 0.1,
        "y": 0.1
       },
       "content": {
        "cell": "4052eb5f-d994-414d-960f-f6f5c81da868",
        "part": "whole"
       },
       "id": "9f130cef-565c-4e68-b393-322e69928953"
      }
     }
    },
    "5ebdce15-ffcb-4de0-bdf2-c8a18b6c0dd5": {
     "id": "5ebdce15-ffcb-4de0-bdf2-c8a18b6c0dd5",
     "prev": "8791c92f-95cf-4de1-a5ce-d86ab5e9037d",
     "regions": {
      "f41f1b66-b1ce-473b-acf3-22caa6105878": {
       "attrs": {
        "height": 0.8,
        "width": 0.8,
        "x": 0.1,
        "y": 0.1
       },
       "content": {
        "cell": "948b8b52-ef08-427a-af00-92a8a0973602",
        "part": "whole"
       },
       "id": "f41f1b66-b1ce-473b-acf3-22caa6105878"
      }
     }
    },
    "646dcd23-cb8c-4e97-8cd0-51ac4346ea4a": {
     "id": "646dcd23-cb8c-4e97-8cd0-51ac4346ea4a",
     "prev": "22a32352-96a9-4474-8aef-f83b8d5ce3c5",
     "regions": {
      "af747cd0-88fc-4308-afc9-60d2175245ec": {
       "attrs": {
        "height": 0.8,
        "width": 0.8,
        "x": 0.1,
        "y": 0.1
       },
       "content": {
        "cell": "b7b1524d-7b11-412b-bba7-bcc8337e1e69",
        "part": "whole"
       },
       "id": "af747cd0-88fc-4308-afc9-60d2175245ec"
      }
     }
    },
    "64d3d17f-ad64-4e2e-ac37-943a78990f9b": {
     "id": "64d3d17f-ad64-4e2e-ac37-943a78990f9b",
     "prev": "acf437cf-e089-403a-87ca-c844b37cbf65",
     "regions": {
      "3ee011c4-aa62-4ec0-97cb-44a5e310c6bc": {
       "attrs": {
        "height": 0.8,
        "width": 0.8,
        "x": 0.1,
        "y": 0.1
       },
       "content": {
        "cell": "19fee786-e512-44b7-be25-6a88db2677b1",
        "part": "whole"
       },
       "id": "3ee011c4-aa62-4ec0-97cb-44a5e310c6bc"
      }
     }
    },
    "68b5ad72-b539-4eb3-bcbc-512fd1b31592": {
     "id": "68b5ad72-b539-4eb3-bcbc-512fd1b31592",
     "prev": "513368cb-fad4-4881-bdcc-195c1e5c9d6c",
     "regions": {
      "2a4be2d9-fed2-484f-9fd5-b57acd0d16af": {
       "attrs": {
        "height": 0.8,
        "width": 0.8,
        "x": 0.1,
        "y": 0.1
       },
       "content": {
        "cell": "7bb961bf-9a13-4766-b8fd-2103d73fd61c",
        "part": "whole"
       },
       "id": "2a4be2d9-fed2-484f-9fd5-b57acd0d16af"
      }
     }
    },
    "68eb3a73-6154-40e0-a019-73cc3af538f6": {
     "id": "68eb3a73-6154-40e0-a019-73cc3af538f6",
     "prev": "18e09cd7-3027-4f9c-abe0-51601ef97228",
     "regions": {
      "218dc432-f9d9-4438-a851-9765ab52ae1d": {
       "attrs": {
        "height": 0.8,
        "width": 0.8,
        "x": 0.1,
        "y": 0.1
       },
       "content": {
        "cell": "4df2bed3-4de5-4e8d-8c25-df3da0514dd9",
        "part": "whole"
       },
       "id": "218dc432-f9d9-4438-a851-9765ab52ae1d"
      }
     }
    },
    "6b2c3e16-3015-4af8-a248-a48bb9e56c06": {
     "id": "6b2c3e16-3015-4af8-a248-a48bb9e56c06",
     "prev": "e755e6e8-4d52-4fad-906f-4fc2c44c994c",
     "regions": {
      "ae84723e-e145-46c7-8681-3f2121b3be9f": {
       "attrs": {
        "height": 0.8,
        "width": 0.8,
        "x": 0.1,
        "y": 0.1
       },
       "content": {
        "cell": "3a39e207-cc97-44fc-83fd-0ad19c61a54d",
        "part": "whole"
       },
       "id": "ae84723e-e145-46c7-8681-3f2121b3be9f"
      }
     }
    },
    "74a8ffea-e4e8-462d-bd7a-3884d43c3b0b": {
     "id": "74a8ffea-e4e8-462d-bd7a-3884d43c3b0b",
     "prev": "2a9a35d8-39d5-48bb-ba92-92b0388a70ac",
     "regions": {
      "c3d9b3ee-2b93-4988-917d-5aa8dab4d082": {
       "attrs": {
        "height": 0.8,
        "width": 0.8,
        "x": 0.1,
        "y": 0.1
       },
       "content": {
        "cell": "92465c59-10ec-442b-94d3-5f00a98b151b",
        "part": "whole"
       },
       "id": "c3d9b3ee-2b93-4988-917d-5aa8dab4d082"
      }
     }
    },
    "7947f4b6-d097-4c5a-ad6c-1bab615fa6ad": {
     "id": "7947f4b6-d097-4c5a-ad6c-1bab615fa6ad",
     "prev": "fce1d98a-7cd7-49c2-8f53-ee2ece141983",
     "regions": {
      "4cb63354-11bf-4a6f-921d-eec625139897": {
       "attrs": {
        "height": 0.8,
        "width": 0.8,
        "x": 0.1,
        "y": 0.1
       },
       "content": {
        "cell": "6c556c3e-83ab-44d5-8777-afd054d60484",
        "part": "whole"
       },
       "id": "4cb63354-11bf-4a6f-921d-eec625139897"
      }
     }
    },
    "7b337060-6e9d-4e89-9f71-eba6b7025657": {
     "id": "7b337060-6e9d-4e89-9f71-eba6b7025657",
     "prev": "f98dc873-d152-417d-9fd1-33ce6383eaa9",
     "regions": {
      "6c7d3968-f4eb-4eb0-bc1f-e74af9845b3c": {
       "attrs": {
        "height": 0.8,
        "width": 0.8,
        "x": 0.1,
        "y": 0.1
       },
       "content": {
        "cell": "4177ffc7-2a8f-40f2-8282-c44172820bb7",
        "part": "whole"
       },
       "id": "6c7d3968-f4eb-4eb0-bc1f-e74af9845b3c"
      }
     }
    },
    "7b75d9a7-975c-4b4d-9edb-c33097f2c66b": {
     "id": "7b75d9a7-975c-4b4d-9edb-c33097f2c66b",
     "prev": "0c442ef3-0c94-4fa9-8b14-c515b91002ad",
     "regions": {
      "21ce41ab-e7b2-4222-bb15-871afb3b1297": {
       "attrs": {
        "height": 0.8,
        "width": 0.8,
        "x": 0.1,
        "y": 0.1
       },
       "content": {
        "cell": "4ea160ef-97b9-4801-a4d0-406c256bc890",
        "part": "whole"
       },
       "id": "21ce41ab-e7b2-4222-bb15-871afb3b1297"
      }
     }
    },
    "7bf4d6b4-d9bf-4c0e-939d-d0de30bf1e8d": {
     "id": "7bf4d6b4-d9bf-4c0e-939d-d0de30bf1e8d",
     "prev": "424a6a0b-81ae-4d5d-9090-69735dcc979e",
     "regions": {
      "88c1a318-255b-4a19-b164-01f11fdf7bb1": {
       "attrs": {
        "height": 0.8,
        "width": 0.8,
        "x": 0.1,
        "y": 0.1
       },
       "content": {
        "cell": "81cd9f13-3dea-4a04-9c2d-0e03683612b9",
        "part": "whole"
       },
       "id": "88c1a318-255b-4a19-b164-01f11fdf7bb1"
      }
     }
    },
    "7cfc12bb-a17d-49ee-b8ac-426753d35368": {
     "id": "7cfc12bb-a17d-49ee-b8ac-426753d35368",
     "prev": "51d5b843-38c0-4ca2-a335-8cc3e1fd43a1",
     "regions": {
      "30860182-b961-4b0c-a443-7d0224bac1d3": {
       "attrs": {
        "height": 0.8,
        "width": 0.8,
        "x": 0.1,
        "y": 0.1
       },
       "content": {
        "cell": "0bcad27e-cea8-4e74-bb8f-f80427e4ec14",
        "part": "whole"
       },
       "id": "30860182-b961-4b0c-a443-7d0224bac1d3"
      }
     }
    },
    "80a3e755-4a1c-495f-93cb-9b1615ae7910": {
     "id": "80a3e755-4a1c-495f-93cb-9b1615ae7910",
     "prev": "fe8ecf30-e2df-4829-ae43-8b25272de4e7",
     "regions": {
      "f837b4b6-fb3c-4a98-8678-605015c8c27b": {
       "attrs": {
        "height": 0.8,
        "width": 0.8,
        "x": 0.1,
        "y": 0.1
       },
       "content": {
        "cell": "427d2aa5-75b8-4c6f-9e3e-8d6f6a236bec",
        "part": "whole"
       },
       "id": "f837b4b6-fb3c-4a98-8678-605015c8c27b"
      }
     }
    },
    "83c7e5ab-f47c-4cc5-a4e8-e6d5e55bfc22": {
     "id": "83c7e5ab-f47c-4cc5-a4e8-e6d5e55bfc22",
     "prev": "8838d665-0dca-43b9-ad13-1f35d7dc17ce",
     "regions": {
      "be35daee-b87c-4042-b5dd-2c9c7481fc8a": {
       "attrs": {
        "height": 0.8,
        "width": 0.8,
        "x": 0.1,
        "y": 0.1
       },
       "content": {
        "cell": "aeacac69-5e92-4633-94a0-2b5eebc0be22",
        "part": "whole"
       },
       "id": "be35daee-b87c-4042-b5dd-2c9c7481fc8a"
      }
     }
    },
    "86cb325a-3301-49d2-80ff-eff06d6038b2": {
     "id": "86cb325a-3301-49d2-80ff-eff06d6038b2",
     "prev": "2c0eafbd-f265-4553-8e0a-77e78568968e",
     "regions": {
      "2e14593c-a64b-4142-9ecd-7b183d744250": {
       "attrs": {
        "height": 0.8,
        "width": 0.8,
        "x": 0.1,
        "y": 0.1
       },
       "content": {
        "cell": "7ebc79ed-c6d1-4736-9c61-5cc7a127b6c7",
        "part": "whole"
       },
       "id": "2e14593c-a64b-4142-9ecd-7b183d744250"
      }
     }
    },
    "8791c92f-95cf-4de1-a5ce-d86ab5e9037d": {
     "id": "8791c92f-95cf-4de1-a5ce-d86ab5e9037d",
     "prev": null,
     "regions": {
      "59177627-9443-4ec8-8398-cd6b051bbedb": {
       "attrs": {
        "height": 0.8,
        "width": 0.8,
        "x": 0.1,
        "y": 0.1
       },
       "content": {
        "cell": "c9c36b31-aeb6-409c-b09d-2055db044573",
        "part": "whole"
       },
       "id": "59177627-9443-4ec8-8398-cd6b051bbedb"
      }
     }
    },
    "879d75fa-b0bb-425d-ac42-c4bb68ea07b6": {
     "id": "879d75fa-b0bb-425d-ac42-c4bb68ea07b6",
     "prev": "2e8c1f4f-7e4c-41cd-9a2f-79b798edab15",
     "regions": {
      "13c9a115-a2d6-493f-9f80-80ce6c50b8bc": {
       "attrs": {
        "height": 0.8,
        "width": 0.8,
        "x": 0.1,
        "y": 0.1
       },
       "content": {
        "cell": "58f24a6d-f4a3-4cc5-b4fe-311cd7d719c0",
        "part": "whole"
       },
       "id": "13c9a115-a2d6-493f-9f80-80ce6c50b8bc"
      }
     }
    },
    "8838d665-0dca-43b9-ad13-1f35d7dc17ce": {
     "id": "8838d665-0dca-43b9-ad13-1f35d7dc17ce",
     "prev": "86cb325a-3301-49d2-80ff-eff06d6038b2",
     "regions": {
      "36d968f4-9e62-4413-98ef-1a97701ba6f2": {
       "attrs": {
        "height": 0.8,
        "width": 0.8,
        "x": 0.1,
        "y": 0.1
       },
       "content": {
        "cell": "0ff2e69e-dd1b-48cb-9cda-c186617fae11",
        "part": "whole"
       },
       "id": "36d968f4-9e62-4413-98ef-1a97701ba6f2"
      }
     }
    },
    "9379e625-3716-4894-b34e-00f09e65a2f1": {
     "id": "9379e625-3716-4894-b34e-00f09e65a2f1",
     "prev": "80a3e755-4a1c-495f-93cb-9b1615ae7910",
     "regions": {
      "cf9b1c01-8d43-4d83-b5f8-cf0b4457d8f8": {
       "attrs": {
        "height": 0.8,
        "width": 0.8,
        "x": 0.1,
        "y": 0.1
       },
       "content": {
        "cell": "123a42b7-6ee4-4824-b411-1c99cac2d0d7",
        "part": "whole"
       },
       "id": "cf9b1c01-8d43-4d83-b5f8-cf0b4457d8f8"
      }
     }
    },
    "93e15202-4361-496c-a8a8-32a15c959749": {
     "id": "93e15202-4361-496c-a8a8-32a15c959749",
     "prev": "314dd279-7b79-4fe5-9fbf-4ec97e037bad",
     "regions": {
      "b4c483a1-0a00-4b51-ae02-1da4ba4c5b3b": {
       "attrs": {
        "height": 0.8,
        "width": 0.8,
        "x": 0.1,
        "y": 0.1
       },
       "content": {
        "cell": "99eb8813-ab66-4996-97d1-1726c6d9484e",
        "part": "whole"
       },
       "id": "b4c483a1-0a00-4b51-ae02-1da4ba4c5b3b"
      }
     }
    },
    "9445809d-2911-4a6a-b01c-e2780c152fc9": {
     "id": "9445809d-2911-4a6a-b01c-e2780c152fc9",
     "prev": "7947f4b6-d097-4c5a-ad6c-1bab615fa6ad",
     "regions": {
      "4022cf03-7a29-43d9-af23-817e7869bff7": {
       "attrs": {
        "height": 0.8,
        "width": 0.8,
        "x": 0.1,
        "y": 0.1
       },
       "content": {
        "cell": "147250f0-7093-4c0e-b6ce-00b6f81126d4",
        "part": "whole"
       },
       "id": "4022cf03-7a29-43d9-af23-817e7869bff7"
      }
     }
    },
    "98ed570a-baa1-4c8c-9142-f9ddb9030e21": {
     "id": "98ed570a-baa1-4c8c-9142-f9ddb9030e21",
     "prev": "4008a2c8-9c31-4eb6-b42c-4c96624d33bd",
     "regions": {
      "81323e27-1143-4c9f-9cfb-f7f7b14a0433": {
       "attrs": {
        "height": 0.8,
        "width": 0.8,
        "x": 0.1,
        "y": 0.1
       },
       "content": {
        "cell": "0edfb7ef-bc45-440e-aec3-e57f46fdeb0b",
        "part": "whole"
       },
       "id": "81323e27-1143-4c9f-9cfb-f7f7b14a0433"
      }
     }
    },
    "9a213905-f2e9-4923-9dd3-c3e9ba774f7e": {
     "id": "9a213905-f2e9-4923-9dd3-c3e9ba774f7e",
     "prev": "fea29111-18fd-4679-8f8e-ea19daa0e032",
     "regions": {
      "48cecbc3-8349-4b19-abea-064617f52b7c": {
       "attrs": {
        "height": 0.8,
        "width": 0.8,
        "x": 0.1,
        "y": 0.1
       },
       "content": {
        "cell": "dd770de0-ef4e-4b7b-a018-c25d079e2247",
        "part": "whole"
       },
       "id": "48cecbc3-8349-4b19-abea-064617f52b7c"
      }
     }
    },
    "9e4998b4-cb3f-4a8d-ab62-1a0aad259d6c": {
     "id": "9e4998b4-cb3f-4a8d-ab62-1a0aad259d6c",
     "prev": "68eb3a73-6154-40e0-a019-73cc3af538f6",
     "regions": {
      "41c85a9c-6dfd-4b60-99a7-512c35e29a88": {
       "attrs": {
        "height": 0.8,
        "width": 0.8,
        "x": 0.1,
        "y": 0.1
       },
       "content": {
        "cell": "3795a935-d314-4a59-bb06-630bf631416b",
        "part": "whole"
       },
       "id": "41c85a9c-6dfd-4b60-99a7-512c35e29a88"
      }
     }
    },
    "9f4f7cb3-135b-4af8-b3a8-03232783012c": {
     "id": "9f4f7cb3-135b-4af8-b3a8-03232783012c",
     "prev": "74a8ffea-e4e8-462d-bd7a-3884d43c3b0b",
     "regions": {
      "f0f4d433-6271-4395-aead-13133464e1d5": {
       "attrs": {
        "height": 0.8,
        "width": 0.8,
        "x": 0.1,
        "y": 0.1
       },
       "content": {
        "cell": "2b71ed9f-ea7e-4039-aa14-4c1031c7c353",
        "part": "whole"
       },
       "id": "f0f4d433-6271-4395-aead-13133464e1d5"
      }
     }
    },
    "9fe01112-094d-422e-aea8-1edb5c01bf39": {
     "id": "9fe01112-094d-422e-aea8-1edb5c01bf39",
     "prev": "092c0b7f-4850-4009-a9b3-5cfe97cf4bdb",
     "regions": {
      "15ba2a25-9d4a-4e9d-96fc-1aa5be176ee5": {
       "attrs": {
        "height": 0.8,
        "width": 0.8,
        "x": 0.1,
        "y": 0.1
       },
       "content": {
        "cell": "724c0e1a-44e1-455e-bb5d-2d9413547c42",
        "part": "whole"
       },
       "id": "15ba2a25-9d4a-4e9d-96fc-1aa5be176ee5"
      }
     }
    },
    "a8e7ce40-d2e8-41d8-bb9f-f957a5825c78": {
     "id": "a8e7ce40-d2e8-41d8-bb9f-f957a5825c78",
     "prev": "e8ae800b-2d3e-466d-baf2-ee3b0f5313c4",
     "regions": {
      "14c58093-a431-4258-954d-0b489ef0c33c": {
       "attrs": {
        "height": 0.8,
        "width": 0.8,
        "x": 0.1,
        "y": 0.1
       },
       "content": {
        "cell": "a5fa70d4-f7e5-404f-be70-51557acb836e",
        "part": "whole"
       },
       "id": "14c58093-a431-4258-954d-0b489ef0c33c"
      }
     }
    },
    "a9e1dcea-9f0a-4487-8863-9388e75d1a79": {
     "id": "a9e1dcea-9f0a-4487-8863-9388e75d1a79",
     "prev": "18771525-6d02-4ed6-be08-686e98b25f7d",
     "regions": {
      "9999c9fd-fa1d-4ac8-9ec2-8b2dcbeab9e6": {
       "attrs": {
        "height": 0.8,
        "width": 0.8,
        "x": 0.1,
        "y": 0.1
       },
       "content": {
        "cell": "c27795c1-fea7-47d0-9c4b-fb721cb50be3",
        "part": "whole"
       },
       "id": "9999c9fd-fa1d-4ac8-9ec2-8b2dcbeab9e6"
      }
     }
    },
    "acf437cf-e089-403a-87ca-c844b37cbf65": {
     "id": "acf437cf-e089-403a-87ca-c844b37cbf65",
     "prev": "f45debed-2950-4fcc-b358-94b8723c602d",
     "regions": {
      "b989ea9a-06b9-40c8-97fa-f8bf593cfcd7": {
       "attrs": {
        "height": 0.8,
        "width": 0.8,
        "x": 0.1,
        "y": 0.1
       },
       "content": {
        "cell": "85eda05f-c863-4817-8c96-9329833d08c1",
        "part": "whole"
       },
       "id": "b989ea9a-06b9-40c8-97fa-f8bf593cfcd7"
      }
     }
    },
    "b1ca01d1-6b81-44ba-9b62-b7e5a9ca96f6": {
     "id": "b1ca01d1-6b81-44ba-9b62-b7e5a9ca96f6",
     "prev": "44a29588-a2ea-46f1-ac1c-cccb16dafa8a",
     "regions": {
      "390bd550-32ab-4502-998f-7ba1e3ba91ad": {
       "attrs": {
        "height": 0.8,
        "width": 0.8,
        "x": 0.1,
        "y": 0.1
       },
       "content": {
        "cell": "8ed0b3e2-2a89-4a49-9d0b-50ba0b31575e",
        "part": "whole"
       },
       "id": "390bd550-32ab-4502-998f-7ba1e3ba91ad"
      }
     }
    },
    "b26fd7d4-0000-4f38-a3c2-467080d53de8": {
     "id": "b26fd7d4-0000-4f38-a3c2-467080d53de8",
     "prev": "f801eff6-f358-4710-871b-593521d59dd3",
     "regions": {
      "08e3f532-6d84-4020-b824-8b1e035ffdf3": {
       "attrs": {
        "height": 0.8,
        "width": 0.8,
        "x": 0.1,
        "y": 0.1
       },
       "content": {
        "cell": "62ec5dd7-953a-440c-8eb2-e250804f2e2f",
        "part": "whole"
       },
       "id": "08e3f532-6d84-4020-b824-8b1e035ffdf3"
      }
     }
    },
    "b327af8a-4c6b-4a5a-99e3-7744d6ba6f49": {
     "id": "b327af8a-4c6b-4a5a-99e3-7744d6ba6f49",
     "prev": "7cfc12bb-a17d-49ee-b8ac-426753d35368",
     "regions": {
      "249cbfdd-73ed-468a-b63f-2987af327492": {
       "attrs": {
        "height": 0.8,
        "width": 0.8,
        "x": 0.1,
        "y": 0.1
       },
       "content": {
        "cell": "929a55bd-9fec-4736-b1f8-7e4fc01f5506",
        "part": "whole"
       },
       "id": "249cbfdd-73ed-468a-b63f-2987af327492"
      }
     }
    },
    "b9ad4c4f-44b7-4ef1-89ed-cccde2f27a81": {
     "id": "b9ad4c4f-44b7-4ef1-89ed-cccde2f27a81",
     "prev": "646dcd23-cb8c-4e97-8cd0-51ac4346ea4a",
     "regions": {
      "7386b13b-1e26-424e-9704-52a54390ade3": {
       "attrs": {
        "height": 0.8,
        "width": 0.8,
        "x": 0.1,
        "y": 0.1
       },
       "content": {
        "cell": "37388bc4-7885-463d-b3d3-212910c24505",
        "part": "whole"
       },
       "id": "7386b13b-1e26-424e-9704-52a54390ade3"
      }
     }
    },
    "c2222ff6-1ff1-4572-8f4e-0ecdc9ecc6a9": {
     "id": "c2222ff6-1ff1-4572-8f4e-0ecdc9ecc6a9",
     "prev": "555ee826-9601-476e-9c4c-d3ab07c19388",
     "regions": {
      "0a1fa206-b129-40c2-8bd3-dfcbcf80c809": {
       "attrs": {
        "height": 0.8,
        "width": 0.8,
        "x": 0.1,
        "y": 0.1
       },
       "content": {
        "cell": "346ba6a1-ad69-4a0e-b830-c67f809b5ecc",
        "part": "whole"
       },
       "id": "0a1fa206-b129-40c2-8bd3-dfcbcf80c809"
      }
     }
    },
    "c6519b92-7c31-44d7-9ccd-659a1f380046": {
     "id": "c6519b92-7c31-44d7-9ccd-659a1f380046",
     "prev": "e31785d8-74cd-42bc-a3f3-55a84bf22401",
     "regions": {
      "ef30205c-af0b-4feb-a955-1ea24affb0fd": {
       "attrs": {
        "height": 0.8,
        "width": 0.8,
        "x": 0.1,
        "y": 0.1
       },
       "content": {
        "cell": "00a5072b-7413-48b4-bcd4-76d48910e05d",
        "part": "whole"
       },
       "id": "ef30205c-af0b-4feb-a955-1ea24affb0fd"
      }
     }
    },
    "c96f37f1-fae1-4490-9c75-6cacf5850632": {
     "id": "c96f37f1-fae1-4490-9c75-6cacf5850632",
     "prev": "a8e7ce40-d2e8-41d8-bb9f-f957a5825c78",
     "regions": {
      "de060f98-0d96-4cf3-835f-b4b9da1fb5ae": {
       "attrs": {
        "height": 0.8,
        "width": 0.8,
        "x": 0.1,
        "y": 0.1
       },
       "content": {
        "cell": "dd7ebbf8-97ac-4132-9e8c-373aca868083",
        "part": "whole"
       },
       "id": "de060f98-0d96-4cf3-835f-b4b9da1fb5ae"
      }
     }
    },
    "ca8c448d-d3c1-498f-987e-d7b5918ba39d": {
     "id": "ca8c448d-d3c1-498f-987e-d7b5918ba39d",
     "prev": "b26fd7d4-0000-4f38-a3c2-467080d53de8",
     "regions": {
      "fd792472-d68f-46c6-9c91-833e58cfdf9d": {
       "attrs": {
        "height": 0.8,
        "width": 0.8,
        "x": 0.1,
        "y": 0.1
       },
       "content": {
        "cell": "2bcd1b19-e896-4f69-bbed-b6acebee9272",
        "part": "whole"
       },
       "id": "fd792472-d68f-46c6-9c91-833e58cfdf9d"
      }
     }
    },
    "cab8738c-e056-4319-91ec-992f7ca66197": {
     "id": "cab8738c-e056-4319-91ec-992f7ca66197",
     "prev": "547e4bb3-ee11-4ca8-a46e-c83ebedc5249",
     "regions": {
      "f41a4bf1-d2aa-478e-be11-00454de612b4": {
       "attrs": {
        "height": 0.8,
        "width": 0.8,
        "x": 0.1,
        "y": 0.1
       },
       "content": {
        "cell": "965e63b0-1e2d-4547-8ed4-215f22d29461",
        "part": "whole"
       },
       "id": "f41a4bf1-d2aa-478e-be11-00454de612b4"
      }
     }
    },
    "cfbf1c47-cf9e-4a38-af21-347711048d85": {
     "id": "cfbf1c47-cf9e-4a38-af21-347711048d85",
     "prev": "b9ad4c4f-44b7-4ef1-89ed-cccde2f27a81",
     "regions": {
      "82323b0d-1c46-4951-8c64-072207e5b2f7": {
       "attrs": {
        "height": 0.8,
        "width": 0.8,
        "x": 0.1,
        "y": 0.1
       },
       "content": {
        "cell": "b81cded6-2bd1-44e3-ba3d-ddb665462a23",
        "part": "whole"
       },
       "id": "82323b0d-1c46-4951-8c64-072207e5b2f7"
      }
     }
    },
    "d0c68d60-0e85-488c-b87d-8ddbb987ec70": {
     "id": "d0c68d60-0e85-488c-b87d-8ddbb987ec70",
     "prev": "5ebdce15-ffcb-4de0-bdf2-c8a18b6c0dd5",
     "regions": {
      "abcb6780-4433-44a4-8e2a-f21670c3e544": {
       "attrs": {
        "height": 0.8,
        "width": 0.8,
        "x": 0.1,
        "y": 0.1
       },
       "content": {
        "cell": "42957f30-f9d5-4d53-914e-3011ded15388",
        "part": "whole"
       },
       "id": "abcb6780-4433-44a4-8e2a-f21670c3e544"
      }
     }
    },
    "d2a3494a-7e8c-49de-8481-de56468f7b6e": {
     "id": "d2a3494a-7e8c-49de-8481-de56468f7b6e",
     "prev": "98ed570a-baa1-4c8c-9142-f9ddb9030e21",
     "regions": {
      "60371305-2ffe-44c5-9e7a-7ecbe9237b64": {
       "attrs": {
        "height": 0.8,
        "width": 0.8,
        "x": 0.1,
        "y": 0.1
       },
       "content": {
        "cell": "87f91248-3ea0-4b53-9f8c-5cb8b6e8e8e1",
        "part": "whole"
       },
       "id": "60371305-2ffe-44c5-9e7a-7ecbe9237b64"
      }
     }
    },
    "d496333b-9c74-43fc-9828-fcfc784a6578": {
     "id": "d496333b-9c74-43fc-9828-fcfc784a6578",
     "prev": "2dce99c0-cd66-408c-b969-2e2009c748af",
     "regions": {
      "ecdfb0f2-663e-4f3f-be5c-288a327a0b55": {
       "attrs": {
        "height": 0.8,
        "width": 0.8,
        "x": 0.1,
        "y": 0.1
       },
       "content": {
        "cell": "f299d2cb-9972-4f97-b0b0-1f4f5839358e",
        "part": "whole"
       },
       "id": "ecdfb0f2-663e-4f3f-be5c-288a327a0b55"
      }
     }
    },
    "da821c85-0c80-45a4-835d-49eb29a936b9": {
     "id": "da821c85-0c80-45a4-835d-49eb29a936b9",
     "prev": "f3292f56-4a68-4131-96ee-74f44b9e508a",
     "regions": {
      "0cf1b257-4ef4-4755-b595-994412529486": {
       "attrs": {
        "height": 0.8,
        "width": 0.8,
        "x": 0.1,
        "y": 0.1
       },
       "content": {
        "cell": "62178622-b8c5-4c6c-979b-9f8f6674093a",
        "part": "whole"
       },
       "id": "0cf1b257-4ef4-4755-b595-994412529486"
      }
     }
    },
    "e31785d8-74cd-42bc-a3f3-55a84bf22401": {
     "id": "e31785d8-74cd-42bc-a3f3-55a84bf22401",
     "prev": "41938ce4-af99-477a-8dae-65514e52ef35",
     "regions": {
      "ae87ac9c-4143-449e-9656-94ba2c47d588": {
       "attrs": {
        "height": 0.8,
        "width": 0.8,
        "x": 0.1,
        "y": 0.1
       },
       "content": {
        "cell": "136f0b8c-14f6-4559-903e-2ff6d1685587",
        "part": "whole"
       },
       "id": "ae87ac9c-4143-449e-9656-94ba2c47d588"
      }
     }
    },
    "e755e6e8-4d52-4fad-906f-4fc2c44c994c": {
     "id": "e755e6e8-4d52-4fad-906f-4fc2c44c994c",
     "prev": "51263c7b-f62d-44f1-864a-1ea8352351f0",
     "regions": {
      "889098ff-565c-454e-b3de-6f58d2e32cc5": {
       "attrs": {
        "height": 0.8,
        "width": 0.8,
        "x": 0.1,
        "y": 0.1
       },
       "content": {
        "cell": "0577a110-8e5b-47f1-8a5c-217ceb48a8ce",
        "part": "whole"
       },
       "id": "889098ff-565c-454e-b3de-6f58d2e32cc5"
      }
     }
    },
    "e8ae800b-2d3e-466d-baf2-ee3b0f5313c4": {
     "id": "e8ae800b-2d3e-466d-baf2-ee3b0f5313c4",
     "prev": "1c1b3a0e-b259-4af7-ac8d-f8627fdbd607",
     "regions": {
      "7b9efb3c-f0cf-49d4-bd2d-478760c3cf17": {
       "attrs": {
        "height": 0.8,
        "width": 0.8,
        "x": 0.1,
        "y": 0.1
       },
       "content": {
        "cell": "8a664202-3058-4e56-9f6d-47366be08d85",
        "part": "whole"
       },
       "id": "7b9efb3c-f0cf-49d4-bd2d-478760c3cf17"
      }
     }
    },
    "ed817aca-ddc7-4444-8046-112540f44fbe": {
     "id": "ed817aca-ddc7-4444-8046-112540f44fbe",
     "prev": "9f4f7cb3-135b-4af8-b3a8-03232783012c",
     "regions": {
      "08f0eea7-b479-4324-adbb-c03d126caf74": {
       "attrs": {
        "height": 0.8,
        "width": 0.8,
        "x": 0.1,
        "y": 0.1
       },
       "content": {
        "cell": "aa275f1c-ced5-4500-9aa7-8c8028b69fed",
        "part": "whole"
       },
       "id": "08f0eea7-b479-4324-adbb-c03d126caf74"
      }
     }
    },
    "f257ab70-36a9-415e-aaee-77dc6177f90c": {
     "id": "f257ab70-36a9-415e-aaee-77dc6177f90c",
     "prev": "93e15202-4361-496c-a8a8-32a15c959749",
     "regions": {
      "a6a64914-3976-4f24-988b-93c612261b6a": {
       "attrs": {
        "height": 0.8,
        "width": 0.8,
        "x": 0.1,
        "y": 0.1
       },
       "content": {
        "cell": "94d86932-a5af-46d2-97f9-cfd2fff02e73",
        "part": "whole"
       },
       "id": "a6a64914-3976-4f24-988b-93c612261b6a"
      }
     }
    },
    "f281e8cf-39b1-4ba0-bb82-a786aae843b7": {
     "id": "f281e8cf-39b1-4ba0-bb82-a786aae843b7",
     "prev": "0059a1a7-24d6-454f-9e6f-dd6f4b19beee",
     "regions": {
      "2e432b57-7996-403a-ab15-881b6112200f": {
       "attrs": {
        "height": 0.8,
        "width": 0.8,
        "x": 0.1,
        "y": 0.1
       },
       "content": {
        "cell": "64253fa8-c63a-41f6-80fc-eb536403850e",
        "part": "whole"
       },
       "id": "2e432b57-7996-403a-ab15-881b6112200f"
      }
     }
    },
    "f3292f56-4a68-4131-96ee-74f44b9e508a": {
     "id": "f3292f56-4a68-4131-96ee-74f44b9e508a",
     "prev": "7bf4d6b4-d9bf-4c0e-939d-d0de30bf1e8d",
     "regions": {
      "6fe6d09c-f1e0-4d35-8645-2e370769e718": {
       "attrs": {
        "height": 0.8,
        "width": 0.8,
        "x": 0.1,
        "y": 0.1
       },
       "content": {
        "cell": "07f17575-aff3-46c7-b9d8-0ffb079cb894",
        "part": "whole"
       },
       "id": "6fe6d09c-f1e0-4d35-8645-2e370769e718"
      }
     }
    },
    "f45debed-2950-4fcc-b358-94b8723c602d": {
     "id": "f45debed-2950-4fcc-b358-94b8723c602d",
     "prev": "590cd1c8-4b0e-483e-8b66-9fc3cda9d4bd",
     "regions": {
      "74b23998-6c25-4713-bee1-894390c86039": {
       "attrs": {
        "height": 0.8,
        "width": 0.8,
        "x": 0.1,
        "y": 0.1
       },
       "content": {
        "cell": "8fcc4457-f9e6-4cb5-9d6b-e11af5ce08dd",
        "part": "whole"
       },
       "id": "74b23998-6c25-4713-bee1-894390c86039"
      }
     }
    },
    "f5f296aa-b70d-425c-a960-e94b561c0684": {
     "id": "f5f296aa-b70d-425c-a960-e94b561c0684",
     "prev": "c96f37f1-fae1-4490-9c75-6cacf5850632",
     "regions": {
      "873b4a3b-09bd-4f3d-be74-8e83293bd1d7": {
       "attrs": {
        "height": 0.8,
        "width": 0.8,
        "x": 0.1,
        "y": 0.1
       },
       "content": {
        "cell": "f6005cf3-f6cc-4fa8-b6c7-241131c196c2",
        "part": "whole"
       },
       "id": "873b4a3b-09bd-4f3d-be74-8e83293bd1d7"
      }
     }
    },
    "f801eff6-f358-4710-871b-593521d59dd3": {
     "id": "f801eff6-f358-4710-871b-593521d59dd3",
     "prev": "40d2b89f-6028-4abc-bf48-53e061e2b429",
     "regions": {
      "e5e4c3c4-44eb-4fed-ab38-dd5e6acb3018": {
       "attrs": {
        "height": 0.8,
        "width": 0.8,
        "x": 0.1,
        "y": 0.1
       },
       "content": {
        "cell": "6ecf295a-ef07-40e1-8c31-915c0ff5d675",
        "part": "whole"
       },
       "id": "e5e4c3c4-44eb-4fed-ab38-dd5e6acb3018"
      }
     }
    },
    "f98dc873-d152-417d-9fd1-33ce6383eaa9": {
     "id": "f98dc873-d152-417d-9fd1-33ce6383eaa9",
     "prev": "0462f2e9-b3c2-4d09-89b4-6b829b985bb1",
     "regions": {
      "18ccf5be-0b24-4955-b802-203e12d40b29": {
       "attrs": {
        "height": 0.8,
        "width": 0.8,
        "x": 0.1,
        "y": 0.1
       },
       "content": {
        "cell": "de1ae27c-ea71-4160-8015-fe7ac92cd2b0",
        "part": "whole"
       },
       "id": "18ccf5be-0b24-4955-b802-203e12d40b29"
      }
     }
    },
    "f9d7747b-857c-4c21-8f24-2ab8369e4eda": {
     "id": "f9d7747b-857c-4c21-8f24-2ab8369e4eda",
     "prev": "c2222ff6-1ff1-4572-8f4e-0ecdc9ecc6a9",
     "regions": {
      "e8452f3e-9536-4b7b-a73b-99af49bc02e4": {
       "attrs": {
        "height": 0.8,
        "width": 0.8,
        "x": 0.1,
        "y": 0.1
       },
       "content": {
        "cell": "be4e277c-eb85-4dde-9d5c-b8346b6b87dd",
        "part": "whole"
       },
       "id": "e8452f3e-9536-4b7b-a73b-99af49bc02e4"
      }
     }
    },
    "fce1d98a-7cd7-49c2-8f53-ee2ece141983": {
     "id": "fce1d98a-7cd7-49c2-8f53-ee2ece141983",
     "prev": "fd15afbc-d6f3-4770-b863-dfad30092995",
     "regions": {
      "ed4ba488-4bc8-46bc-90e7-0c2077e90eb8": {
       "attrs": {
        "height": 0.8,
        "width": 0.8,
        "x": 0.1,
        "y": 0.1
       },
       "content": {
        "cell": "f6a566de-bd60-4754-b85d-2feead1663e3",
        "part": "whole"
       },
       "id": "ed4ba488-4bc8-46bc-90e7-0c2077e90eb8"
      }
     }
    },
    "fd15afbc-d6f3-4770-b863-dfad30092995": {
     "id": "fd15afbc-d6f3-4770-b863-dfad30092995",
     "prev": "64d3d17f-ad64-4e2e-ac37-943a78990f9b",
     "regions": {
      "f2bab4d1-f88a-4baf-bc80-630514e8a4c6": {
       "attrs": {
        "height": 0.8,
        "width": 0.8,
        "x": 0.1,
        "y": 0.1
       },
       "content": {
        "cell": "3d2a75bf-1a34-4699-9c8a-a1e43bc65c10",
        "part": "whole"
       },
       "id": "f2bab4d1-f88a-4baf-bc80-630514e8a4c6"
      }
     }
    },
    "fe8ecf30-e2df-4829-ae43-8b25272de4e7": {
     "id": "fe8ecf30-e2df-4829-ae43-8b25272de4e7",
     "prev": "68b5ad72-b539-4eb3-bcbc-512fd1b31592",
     "regions": {
      "2418eef2-34a9-4b75-a135-0f4c6756dc75": {
       "attrs": {
        "height": 0.8,
        "width": 0.8,
        "x": 0.1,
        "y": 0.1
       },
       "content": {
        "cell": "957e09e5-f898-42ff-852b-cd986f858ff6",
        "part": "whole"
       },
       "id": "2418eef2-34a9-4b75-a135-0f4c6756dc75"
      }
     }
    },
    "fea29111-18fd-4679-8f8e-ea19daa0e032": {
     "id": "fea29111-18fd-4679-8f8e-ea19daa0e032",
     "prev": "b1ca01d1-6b81-44ba-9b62-b7e5a9ca96f6",
     "regions": {
      "24810df9-57f9-4e9c-ba03-dbfeb5850d06": {
       "attrs": {
        "height": 0.8,
        "width": 0.8,
        "x": 0.1,
        "y": 0.1
       },
       "content": {
        "cell": "beebb449-da91-4db9-a86c-30a8f7965d35",
        "part": "whole"
       },
       "id": "24810df9-57f9-4e9c-ba03-dbfeb5850d06"
      }
     }
    }
   },
   "themes": {}
  }
 },
 "nbformat": 4,
 "nbformat_minor": 0
}
